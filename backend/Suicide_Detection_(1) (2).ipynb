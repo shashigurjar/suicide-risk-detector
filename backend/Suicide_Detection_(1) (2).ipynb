{
  "cells": [
    {
      "cell_type": "code",
      "execution_count": 1,
      "id": "4f3fca3a-8d92-4efc-ae98-f4dc506ddb5c",
      "metadata": {
        "id": "4f3fca3a-8d92-4efc-ae98-f4dc506ddb5c"
      },
      "outputs": [],
      "source": [
        "import numpy as np\n",
        "import pandas as pd"
      ]
    },
    {
      "cell_type": "code",
      "execution_count": 2,
      "id": "92e40e30-4577-4e4b-a9a5-77e94f117d22",
      "metadata": {
        "id": "92e40e30-4577-4e4b-a9a5-77e94f117d22"
      },
      "outputs": [],
      "source": [
        "dataset = pd.read_csv('Suicide_Detection.csv')"
      ]
    },
    {
      "cell_type": "code",
      "execution_count": 3,
      "id": "00e42d36-e011-49d6-9120-f86ea742c57d",
      "metadata": {
        "colab": {
          "base_uri": "https://localhost:8080/",
          "height": 424
        },
        "id": "00e42d36-e011-49d6-9120-f86ea742c57d",
        "outputId": "0962d83e-437e-446f-86f4-4cafbc90f692",
        "scrolled": true
      },
      "outputs": [
        {
          "data": {
            "text/html": [
              "<div>\n",
              "<style scoped>\n",
              "    .dataframe tbody tr th:only-of-type {\n",
              "        vertical-align: middle;\n",
              "    }\n",
              "\n",
              "    .dataframe tbody tr th {\n",
              "        vertical-align: top;\n",
              "    }\n",
              "\n",
              "    .dataframe thead th {\n",
              "        text-align: right;\n",
              "    }\n",
              "</style>\n",
              "<table border=\"1\" class=\"dataframe\">\n",
              "  <thead>\n",
              "    <tr style=\"text-align: right;\">\n",
              "      <th></th>\n",
              "      <th>Unnamed: 0</th>\n",
              "      <th>text</th>\n",
              "      <th>class</th>\n",
              "    </tr>\n",
              "  </thead>\n",
              "  <tbody>\n",
              "    <tr>\n",
              "      <th>0</th>\n",
              "      <td>2</td>\n",
              "      <td>Ex Wife Threatening SuicideRecently I left my ...</td>\n",
              "      <td>suicide</td>\n",
              "    </tr>\n",
              "    <tr>\n",
              "      <th>1</th>\n",
              "      <td>3</td>\n",
              "      <td>Am I weird I don't get affected by compliments...</td>\n",
              "      <td>non-suicide</td>\n",
              "    </tr>\n",
              "    <tr>\n",
              "      <th>2</th>\n",
              "      <td>4</td>\n",
              "      <td>Finally 2020 is almost over... So I can never ...</td>\n",
              "      <td>non-suicide</td>\n",
              "    </tr>\n",
              "    <tr>\n",
              "      <th>3</th>\n",
              "      <td>8</td>\n",
              "      <td>i need helpjust help me im crying so hard</td>\n",
              "      <td>suicide</td>\n",
              "    </tr>\n",
              "    <tr>\n",
              "      <th>4</th>\n",
              "      <td>9</td>\n",
              "      <td>I’m so lostHello, my name is Adam (16) and I’v...</td>\n",
              "      <td>suicide</td>\n",
              "    </tr>\n",
              "    <tr>\n",
              "      <th>...</th>\n",
              "      <td>...</td>\n",
              "      <td>...</td>\n",
              "      <td>...</td>\n",
              "    </tr>\n",
              "    <tr>\n",
              "      <th>232069</th>\n",
              "      <td>348103</td>\n",
              "      <td>If you don't like rock then your not going to ...</td>\n",
              "      <td>non-suicide</td>\n",
              "    </tr>\n",
              "    <tr>\n",
              "      <th>232070</th>\n",
              "      <td>348106</td>\n",
              "      <td>You how you can tell i have so many friends an...</td>\n",
              "      <td>non-suicide</td>\n",
              "    </tr>\n",
              "    <tr>\n",
              "      <th>232071</th>\n",
              "      <td>348107</td>\n",
              "      <td>pee probably tastes like salty tea😏💦‼️ can som...</td>\n",
              "      <td>non-suicide</td>\n",
              "    </tr>\n",
              "    <tr>\n",
              "      <th>232072</th>\n",
              "      <td>348108</td>\n",
              "      <td>The usual stuff you find hereI'm not posting t...</td>\n",
              "      <td>suicide</td>\n",
              "    </tr>\n",
              "    <tr>\n",
              "      <th>232073</th>\n",
              "      <td>348110</td>\n",
              "      <td>I still haven't beaten the first boss in Hollo...</td>\n",
              "      <td>non-suicide</td>\n",
              "    </tr>\n",
              "  </tbody>\n",
              "</table>\n",
              "<p>232074 rows × 3 columns</p>\n",
              "</div>"
            ],
            "text/plain": [
              "        Unnamed: 0                                               text  \\\n",
              "0                2  Ex Wife Threatening SuicideRecently I left my ...   \n",
              "1                3  Am I weird I don't get affected by compliments...   \n",
              "2                4  Finally 2020 is almost over... So I can never ...   \n",
              "3                8          i need helpjust help me im crying so hard   \n",
              "4                9  I’m so lostHello, my name is Adam (16) and I’v...   \n",
              "...            ...                                                ...   \n",
              "232069      348103  If you don't like rock then your not going to ...   \n",
              "232070      348106  You how you can tell i have so many friends an...   \n",
              "232071      348107  pee probably tastes like salty tea😏💦‼️ can som...   \n",
              "232072      348108  The usual stuff you find hereI'm not posting t...   \n",
              "232073      348110  I still haven't beaten the first boss in Hollo...   \n",
              "\n",
              "              class  \n",
              "0           suicide  \n",
              "1       non-suicide  \n",
              "2       non-suicide  \n",
              "3           suicide  \n",
              "4           suicide  \n",
              "...             ...  \n",
              "232069  non-suicide  \n",
              "232070  non-suicide  \n",
              "232071  non-suicide  \n",
              "232072      suicide  \n",
              "232073  non-suicide  \n",
              "\n",
              "[232074 rows x 3 columns]"
            ]
          },
          "execution_count": 3,
          "metadata": {},
          "output_type": "execute_result"
        }
      ],
      "source": [
        "dataset"
      ]
    },
    {
      "cell_type": "code",
      "execution_count": 4,
      "id": "bb475bdc-70a7-4388-a95a-e146a0c0cc12",
      "metadata": {
        "colab": {
          "base_uri": "https://localhost:8080/"
        },
        "id": "bb475bdc-70a7-4388-a95a-e146a0c0cc12",
        "outputId": "b9ddf72c-8f51-453f-d165-c00385b3354b"
      },
      "outputs": [
        {
          "name": "stdout",
          "output_type": "stream",
          "text": [
            "Requirement already satisfied: tensorflow in c:\\users\\shash\\appdata\\roaming\\python\\python312\\site-packages (2.19.0)\n",
            "Requirement already satisfied: keras in c:\\users\\shash\\appdata\\roaming\\python\\python312\\site-packages (3.9.2)\n",
            "Requirement already satisfied: keras-nlp in c:\\python312\\lib\\site-packages (0.20.0)\n",
            "Requirement already satisfied: neattext in c:\\python312\\lib\\site-packages (0.1.3)\n",
            "Requirement already satisfied: scikit-learn in c:\\python312\\lib\\site-packages (1.6.1)\n",
            "Requirement already satisfied: pandas in c:\\python312\\lib\\site-packages (2.2.3)\n",
            "Requirement already satisfied: plotly in c:\\python312\\lib\\site-packages (6.0.1)\n",
            "Requirement already satisfied: tqdm in c:\\python312\\lib\\site-packages (4.67.1)\n",
            "Requirement already satisfied: wurlitzer in c:\\python312\\lib\\site-packages (3.1.1)\n",
            "Requirement already satisfied: absl-py>=1.0.0 in c:\\users\\shash\\appdata\\roaming\\python\\python312\\site-packages (from tensorflow) (2.2.2)\n",
            "Requirement already satisfied: astunparse>=1.6.0 in c:\\users\\shash\\appdata\\roaming\\python\\python312\\site-packages (from tensorflow) (1.6.3)\n",
            "Requirement already satisfied: flatbuffers>=24.3.25 in c:\\python312\\lib\\site-packages (from tensorflow) (25.2.10)\n",
            "Requirement already satisfied: gast!=0.5.0,!=0.5.1,!=0.5.2,>=0.2.1 in c:\\users\\shash\\appdata\\roaming\\python\\python312\\site-packages (from tensorflow) (0.6.0)\n",
            "Requirement already satisfied: google-pasta>=0.1.1 in c:\\users\\shash\\appdata\\roaming\\python\\python312\\site-packages (from tensorflow) (0.2.0)\n",
            "Requirement already satisfied: libclang>=13.0.0 in c:\\python312\\lib\\site-packages (from tensorflow) (18.1.1)\n",
            "Requirement already satisfied: opt-einsum>=2.3.2 in c:\\python312\\lib\\site-packages (from tensorflow) (3.4.0)\n",
            "Requirement already satisfied: packaging in c:\\users\\shash\\appdata\\roaming\\python\\python312\\site-packages (from tensorflow) (24.2)\n",
            "Requirement already satisfied: protobuf!=4.21.0,!=4.21.1,!=4.21.2,!=4.21.3,!=4.21.4,!=4.21.5,<6.0.0dev,>=3.20.3 in c:\\python312\\lib\\site-packages (from tensorflow) (5.29.4)\n",
            "Requirement already satisfied: requests<3,>=2.21.0 in c:\\users\\shash\\appdata\\roaming\\python\\python312\\site-packages (from tensorflow) (2.32.3)\n",
            "Requirement already satisfied: setuptools in c:\\python312\\lib\\site-packages (from tensorflow) (78.1.0)\n",
            "Requirement already satisfied: six>=1.12.0 in c:\\users\\shash\\appdata\\roaming\\python\\python312\\site-packages (from tensorflow) (1.17.0)\n",
            "Requirement already satisfied: termcolor>=1.1.0 in c:\\python312\\lib\\site-packages (from tensorflow) (3.0.1)\n",
            "Requirement already satisfied: typing-extensions>=3.6.6 in c:\\python312\\lib\\site-packages (from tensorflow) (4.13.1)\n",
            "Requirement already satisfied: wrapt>=1.11.0 in c:\\python312\\lib\\site-packages (from tensorflow) (1.17.2)\n",
            "Requirement already satisfied: grpcio<2.0,>=1.24.3 in c:\\users\\shash\\appdata\\roaming\\python\\python312\\site-packages (from tensorflow) (1.71.0)\n",
            "Requirement already satisfied: tensorboard~=2.19.0 in c:\\users\\shash\\appdata\\roaming\\python\\python312\\site-packages (from tensorflow) (2.19.0)\n",
            "Requirement already satisfied: numpy<2.2.0,>=1.26.0 in c:\\python312\\lib\\site-packages (from tensorflow) (2.1.3)\n",
            "Requirement already satisfied: h5py>=3.11.0 in c:\\users\\shash\\appdata\\roaming\\python\\python312\\site-packages (from tensorflow) (3.13.0)\n",
            "Requirement already satisfied: ml-dtypes<1.0.0,>=0.5.1 in c:\\python312\\lib\\site-packages (from tensorflow) (0.5.1)\n",
            "Requirement already satisfied: rich in c:\\users\\shash\\appdata\\roaming\\python\\python312\\site-packages (from keras) (14.0.0)\n",
            "Requirement already satisfied: namex in c:\\python312\\lib\\site-packages (from keras) (0.0.8)\n",
            "Requirement already satisfied: optree in c:\\python312\\lib\\site-packages (from keras) (0.15.0)\n",
            "Requirement already satisfied: keras-hub==0.20.0 in c:\\python312\\lib\\site-packages (from keras-nlp) (0.20.0)\n",
            "Requirement already satisfied: regex in c:\\python312\\lib\\site-packages (from keras-hub==0.20.0->keras-nlp) (2024.11.6)\n",
            "Requirement already satisfied: kagglehub in c:\\python312\\lib\\site-packages (from keras-hub==0.20.0->keras-nlp) (0.3.11)\n",
            "Requirement already satisfied: scipy>=1.6.0 in c:\\python312\\lib\\site-packages (from scikit-learn) (1.15.2)\n",
            "Requirement already satisfied: joblib>=1.2.0 in c:\\python312\\lib\\site-packages (from scikit-learn) (1.4.2)\n",
            "Requirement already satisfied: threadpoolctl>=3.1.0 in c:\\python312\\lib\\site-packages (from scikit-learn) (3.6.0)\n",
            "Requirement already satisfied: python-dateutil>=2.8.2 in c:\\users\\shash\\appdata\\roaming\\python\\python312\\site-packages (from pandas) (2.9.0.post0)\n",
            "Requirement already satisfied: pytz>=2020.1 in c:\\python312\\lib\\site-packages (from pandas) (2025.2)\n",
            "Requirement already satisfied: tzdata>=2022.7 in c:\\python312\\lib\\site-packages (from pandas) (2025.2)\n",
            "Requirement already satisfied: narwhals>=1.15.1 in c:\\python312\\lib\\site-packages (from plotly) (1.34.1)\n",
            "Requirement already satisfied: colorama in c:\\python312\\lib\\site-packages (from tqdm) (0.4.6)\n",
            "Requirement already satisfied: wheel<1.0,>=0.23.0 in c:\\python312\\lib\\site-packages (from astunparse>=1.6.0->tensorflow) (0.45.1)\n",
            "Requirement already satisfied: charset-normalizer<4,>=2 in c:\\users\\shash\\appdata\\roaming\\python\\python312\\site-packages (from requests<3,>=2.21.0->tensorflow) (3.4.1)\n",
            "Requirement already satisfied: idna<4,>=2.5 in c:\\users\\shash\\appdata\\roaming\\python\\python312\\site-packages (from requests<3,>=2.21.0->tensorflow) (3.10)\n",
            "Requirement already satisfied: urllib3<3,>=1.21.1 in c:\\python312\\lib\\site-packages (from requests<3,>=2.21.0->tensorflow) (2.3.0)\n",
            "Requirement already satisfied: certifi>=2017.4.17 in c:\\users\\shash\\appdata\\roaming\\python\\python312\\site-packages (from requests<3,>=2.21.0->tensorflow) (2025.1.31)\n",
            "Requirement already satisfied: markdown>=2.6.8 in c:\\python312\\lib\\site-packages (from tensorboard~=2.19.0->tensorflow) (3.7)\n",
            "Requirement already satisfied: tensorboard-data-server<0.8.0,>=0.7.0 in c:\\python312\\lib\\site-packages (from tensorboard~=2.19.0->tensorflow) (0.7.2)\n",
            "Requirement already satisfied: werkzeug>=1.0.1 in c:\\python312\\lib\\site-packages (from tensorboard~=2.19.0->tensorflow) (3.1.3)\n",
            "Requirement already satisfied: markdown-it-py>=2.2.0 in c:\\users\\shash\\appdata\\roaming\\python\\python312\\site-packages (from rich->keras) (3.0.0)\n",
            "Requirement already satisfied: pygments<3.0.0,>=2.13.0 in c:\\users\\shash\\appdata\\roaming\\python\\python312\\site-packages (from rich->keras) (2.19.1)\n",
            "Requirement already satisfied: mdurl~=0.1 in c:\\python312\\lib\\site-packages (from markdown-it-py>=2.2.0->rich->keras) (0.1.2)\n",
            "Requirement already satisfied: MarkupSafe>=2.1.1 in c:\\python312\\lib\\site-packages (from werkzeug>=1.0.1->tensorboard~=2.19.0->tensorflow) (3.0.2)\n",
            "Requirement already satisfied: pyyaml in c:\\python312\\lib\\site-packages (from kagglehub->keras-hub==0.20.0->keras-nlp) (6.0.2)\n"
          ]
        },
        {
          "name": "stderr",
          "output_type": "stream",
          "text": [
            "\n",
            "[notice] A new release of pip is available: 23.2.1 -> 25.1.1\n",
            "[notice] To update, run: python.exe -m pip install --upgrade pip\n"
          ]
        }
      ],
      "source": [
        "!pip install tensorflow keras keras-nlp neattext scikit-learn pandas plotly tqdm wurlitzer"
      ]
    },
    {
      "cell_type": "code",
      "execution_count": 5,
      "id": "97e6c8ad-8028-42de-bd3d-334b5b0cfa68",
      "metadata": {
        "id": "97e6c8ad-8028-42de-bd3d-334b5b0cfa68"
      },
      "outputs": [],
      "source": [
        "import numpy as np\n",
        "import pandas as pd\n",
        "from sklearn.model_selection import train_test_split\n",
        "import neattext.functions as nfx\n",
        "import plotly.express as plx\n",
        "from sklearn.metrics import classification_report\n",
        "import keras\n",
        "from keras.layers import Embedding, Dense, LSTM, GlobalMaxPooling1D, Input\n",
        "from keras.callbacks import EarlyStopping, ReduceLROnPlateau\n",
        "from keras.models import Sequential\n",
        "import tensorflow as tf\n",
        "from sklearn.preprocessing import LabelEncoder\n",
        "import keras_nlp  # For tokenizer from keras-nlp\n",
        "from keras.preprocessing.sequence import pad_sequences\n",
        "import keras_nlp.tokenizers as Tokenizer\n",
        "from tqdm import tqdm"
      ]
    },
    {
      "cell_type": "code",
      "execution_count": 6,
      "id": "29e8a4c9-e1a1-40ab-b7a2-d480b88667ad",
      "metadata": {
        "colab": {
          "base_uri": "https://localhost:8080/",
          "height": 206
        },
        "id": "29e8a4c9-e1a1-40ab-b7a2-d480b88667ad",
        "outputId": "2210288b-68e3-4e2f-a9a8-ad5bf403de60"
      },
      "outputs": [
        {
          "data": {
            "text/html": [
              "<div>\n",
              "<style scoped>\n",
              "    .dataframe tbody tr th:only-of-type {\n",
              "        vertical-align: middle;\n",
              "    }\n",
              "\n",
              "    .dataframe tbody tr th {\n",
              "        vertical-align: top;\n",
              "    }\n",
              "\n",
              "    .dataframe thead th {\n",
              "        text-align: right;\n",
              "    }\n",
              "</style>\n",
              "<table border=\"1\" class=\"dataframe\">\n",
              "  <thead>\n",
              "    <tr style=\"text-align: right;\">\n",
              "      <th></th>\n",
              "      <th>Unnamed: 0</th>\n",
              "      <th>text</th>\n",
              "      <th>class</th>\n",
              "    </tr>\n",
              "  </thead>\n",
              "  <tbody>\n",
              "    <tr>\n",
              "      <th>0</th>\n",
              "      <td>2</td>\n",
              "      <td>Ex Wife Threatening SuicideRecently I left my ...</td>\n",
              "      <td>suicide</td>\n",
              "    </tr>\n",
              "    <tr>\n",
              "      <th>1</th>\n",
              "      <td>3</td>\n",
              "      <td>Am I weird I don't get affected by compliments...</td>\n",
              "      <td>non-suicide</td>\n",
              "    </tr>\n",
              "    <tr>\n",
              "      <th>2</th>\n",
              "      <td>4</td>\n",
              "      <td>Finally 2020 is almost over... So I can never ...</td>\n",
              "      <td>non-suicide</td>\n",
              "    </tr>\n",
              "    <tr>\n",
              "      <th>3</th>\n",
              "      <td>8</td>\n",
              "      <td>i need helpjust help me im crying so hard</td>\n",
              "      <td>suicide</td>\n",
              "    </tr>\n",
              "    <tr>\n",
              "      <th>4</th>\n",
              "      <td>9</td>\n",
              "      <td>I’m so lostHello, my name is Adam (16) and I’v...</td>\n",
              "      <td>suicide</td>\n",
              "    </tr>\n",
              "  </tbody>\n",
              "</table>\n",
              "</div>"
            ],
            "text/plain": [
              "   Unnamed: 0                                               text        class\n",
              "0           2  Ex Wife Threatening SuicideRecently I left my ...      suicide\n",
              "1           3  Am I weird I don't get affected by compliments...  non-suicide\n",
              "2           4  Finally 2020 is almost over... So I can never ...  non-suicide\n",
              "3           8          i need helpjust help me im crying so hard      suicide\n",
              "4           9  I’m so lostHello, my name is Adam (16) and I’v...      suicide"
            ]
          },
          "execution_count": 6,
          "metadata": {},
          "output_type": "execute_result"
        }
      ],
      "source": [
        "data=pd.read_csv('Suicide_Detection.csv')\n",
        "data.head()"
      ]
    },
    {
      "cell_type": "code",
      "execution_count": 7,
      "id": "04adcd22-42aa-41a7-ba33-735ac764a875",
      "metadata": {
        "colab": {
          "base_uri": "https://localhost:8080/",
          "height": 178
        },
        "id": "04adcd22-42aa-41a7-ba33-735ac764a875",
        "outputId": "73d9c5b4-a4c5-4368-f5f2-1d2db88d7121"
      },
      "outputs": [
        {
          "data": {
            "text/plain": [
              "class\n",
              "suicide        116037\n",
              "non-suicide    116037\n",
              "Name: count, dtype: int64"
            ]
          },
          "execution_count": 7,
          "metadata": {},
          "output_type": "execute_result"
        }
      ],
      "source": [
        "data['class'].value_counts()"
      ]
    },
    {
      "cell_type": "code",
      "execution_count": 8,
      "id": "7487d805-b9d7-42a1-b5ab-a40ca3600c35",
      "metadata": {
        "colab": {
          "base_uri": "https://localhost:8080/"
        },
        "id": "7487d805-b9d7-42a1-b5ab-a40ca3600c35",
        "outputId": "3c56bb58-9862-484b-b4e3-ff3664b4f05b"
      },
      "outputs": [
        {
          "data": {
            "text/plain": [
              "array(['suicide', 'non-suicide'], dtype=object)"
            ]
          },
          "execution_count": 8,
          "metadata": {},
          "output_type": "execute_result"
        }
      ],
      "source": [
        "data['class'].value_counts().index.values"
      ]
    },
    {
      "cell_type": "code",
      "execution_count": 9,
      "id": "919bd6dd-0a09-48ab-b7b0-5c22d3082423",
      "metadata": {
        "id": "919bd6dd-0a09-48ab-b7b0-5c22d3082423"
      },
      "outputs": [],
      "source": [
        "train_data,test_data=train_test_split(data,test_size=0.2,random_state=10)"
      ]
    },
    {
      "cell_type": "code",
      "execution_count": 10,
      "id": "94604f44-5fb3-456f-ba06-8363496c4818",
      "metadata": {
        "colab": {
          "base_uri": "https://localhost:8080/"
        },
        "id": "94604f44-5fb3-456f-ba06-8363496c4818",
        "outputId": "8b5e4198-420b-48f3-f8c3-cdb330f09f40"
      },
      "outputs": [
        {
          "data": {
            "text/plain": [
              "array(['suicide', 'non-suicide'], dtype=object)"
            ]
          },
          "execution_count": 10,
          "metadata": {},
          "output_type": "execute_result"
        }
      ],
      "source": [
        "train_data['class'].value_counts().index.values"
      ]
    },
    {
      "cell_type": "code",
      "execution_count": 11,
      "id": "c73aa54c-8a70-4f44-a0df-3399d10fe27e",
      "metadata": {
        "colab": {
          "base_uri": "https://localhost:8080/",
          "height": 542
        },
        "id": "c73aa54c-8a70-4f44-a0df-3399d10fe27e",
        "outputId": "1043e20b-88fe-4075-cc5c-e0502369b6d3"
      },
      "outputs": [
        {
          "data": {
            "application/vnd.plotly.v1+json": {
              "config": {
                "plotlyServerURL": "https://plot.ly"
              },
              "data": [
                {
                  "hovertemplate": "class=%{x}<br>count=%{y}<extra></extra>",
                  "legendgroup": "suicide",
                  "marker": {
                    "color": "#636efa",
                    "pattern": {
                      "shape": ""
                    }
                  },
                  "name": "suicide",
                  "orientation": "v",
                  "showlegend": true,
                  "textposition": "auto",
                  "type": "bar",
                  "x": [
                    "suicide"
                  ],
                  "xaxis": "x",
                  "y": {
                    "bdata": "n2oBAA==",
                    "dtype": "i4"
                  },
                  "yaxis": "y"
                },
                {
                  "hovertemplate": "class=%{x}<br>count=%{y}<extra></extra>",
                  "legendgroup": "non-suicide",
                  "marker": {
                    "color": "#EF553B",
                    "pattern": {
                      "shape": ""
                    }
                  },
                  "name": "non-suicide",
                  "orientation": "v",
                  "showlegend": true,
                  "textposition": "auto",
                  "type": "bar",
                  "x": [
                    "non-suicide"
                  ],
                  "xaxis": "x",
                  "y": {
                    "bdata": "nGoBAA==",
                    "dtype": "i4"
                  },
                  "yaxis": "y"
                }
              ],
              "layout": {
                "barmode": "relative",
                "legend": {
                  "title": {
                    "text": "class"
                  },
                  "tracegroupgap": 0
                },
                "margin": {
                  "t": 60
                },
                "template": {
                  "data": {
                    "bar": [
                      {
                        "error_x": {
                          "color": "#2a3f5f"
                        },
                        "error_y": {
                          "color": "#2a3f5f"
                        },
                        "marker": {
                          "line": {
                            "color": "#E5ECF6",
                            "width": 0.5
                          },
                          "pattern": {
                            "fillmode": "overlay",
                            "size": 10,
                            "solidity": 0.2
                          }
                        },
                        "type": "bar"
                      }
                    ],
                    "barpolar": [
                      {
                        "marker": {
                          "line": {
                            "color": "#E5ECF6",
                            "width": 0.5
                          },
                          "pattern": {
                            "fillmode": "overlay",
                            "size": 10,
                            "solidity": 0.2
                          }
                        },
                        "type": "barpolar"
                      }
                    ],
                    "carpet": [
                      {
                        "aaxis": {
                          "endlinecolor": "#2a3f5f",
                          "gridcolor": "white",
                          "linecolor": "white",
                          "minorgridcolor": "white",
                          "startlinecolor": "#2a3f5f"
                        },
                        "baxis": {
                          "endlinecolor": "#2a3f5f",
                          "gridcolor": "white",
                          "linecolor": "white",
                          "minorgridcolor": "white",
                          "startlinecolor": "#2a3f5f"
                        },
                        "type": "carpet"
                      }
                    ],
                    "choropleth": [
                      {
                        "colorbar": {
                          "outlinewidth": 0,
                          "ticks": ""
                        },
                        "type": "choropleth"
                      }
                    ],
                    "contour": [
                      {
                        "colorbar": {
                          "outlinewidth": 0,
                          "ticks": ""
                        },
                        "colorscale": [
                          [
                            0,
                            "#0d0887"
                          ],
                          [
                            0.1111111111111111,
                            "#46039f"
                          ],
                          [
                            0.2222222222222222,
                            "#7201a8"
                          ],
                          [
                            0.3333333333333333,
                            "#9c179e"
                          ],
                          [
                            0.4444444444444444,
                            "#bd3786"
                          ],
                          [
                            0.5555555555555556,
                            "#d8576b"
                          ],
                          [
                            0.6666666666666666,
                            "#ed7953"
                          ],
                          [
                            0.7777777777777778,
                            "#fb9f3a"
                          ],
                          [
                            0.8888888888888888,
                            "#fdca26"
                          ],
                          [
                            1,
                            "#f0f921"
                          ]
                        ],
                        "type": "contour"
                      }
                    ],
                    "contourcarpet": [
                      {
                        "colorbar": {
                          "outlinewidth": 0,
                          "ticks": ""
                        },
                        "type": "contourcarpet"
                      }
                    ],
                    "heatmap": [
                      {
                        "colorbar": {
                          "outlinewidth": 0,
                          "ticks": ""
                        },
                        "colorscale": [
                          [
                            0,
                            "#0d0887"
                          ],
                          [
                            0.1111111111111111,
                            "#46039f"
                          ],
                          [
                            0.2222222222222222,
                            "#7201a8"
                          ],
                          [
                            0.3333333333333333,
                            "#9c179e"
                          ],
                          [
                            0.4444444444444444,
                            "#bd3786"
                          ],
                          [
                            0.5555555555555556,
                            "#d8576b"
                          ],
                          [
                            0.6666666666666666,
                            "#ed7953"
                          ],
                          [
                            0.7777777777777778,
                            "#fb9f3a"
                          ],
                          [
                            0.8888888888888888,
                            "#fdca26"
                          ],
                          [
                            1,
                            "#f0f921"
                          ]
                        ],
                        "type": "heatmap"
                      }
                    ],
                    "histogram": [
                      {
                        "marker": {
                          "pattern": {
                            "fillmode": "overlay",
                            "size": 10,
                            "solidity": 0.2
                          }
                        },
                        "type": "histogram"
                      }
                    ],
                    "histogram2d": [
                      {
                        "colorbar": {
                          "outlinewidth": 0,
                          "ticks": ""
                        },
                        "colorscale": [
                          [
                            0,
                            "#0d0887"
                          ],
                          [
                            0.1111111111111111,
                            "#46039f"
                          ],
                          [
                            0.2222222222222222,
                            "#7201a8"
                          ],
                          [
                            0.3333333333333333,
                            "#9c179e"
                          ],
                          [
                            0.4444444444444444,
                            "#bd3786"
                          ],
                          [
                            0.5555555555555556,
                            "#d8576b"
                          ],
                          [
                            0.6666666666666666,
                            "#ed7953"
                          ],
                          [
                            0.7777777777777778,
                            "#fb9f3a"
                          ],
                          [
                            0.8888888888888888,
                            "#fdca26"
                          ],
                          [
                            1,
                            "#f0f921"
                          ]
                        ],
                        "type": "histogram2d"
                      }
                    ],
                    "histogram2dcontour": [
                      {
                        "colorbar": {
                          "outlinewidth": 0,
                          "ticks": ""
                        },
                        "colorscale": [
                          [
                            0,
                            "#0d0887"
                          ],
                          [
                            0.1111111111111111,
                            "#46039f"
                          ],
                          [
                            0.2222222222222222,
                            "#7201a8"
                          ],
                          [
                            0.3333333333333333,
                            "#9c179e"
                          ],
                          [
                            0.4444444444444444,
                            "#bd3786"
                          ],
                          [
                            0.5555555555555556,
                            "#d8576b"
                          ],
                          [
                            0.6666666666666666,
                            "#ed7953"
                          ],
                          [
                            0.7777777777777778,
                            "#fb9f3a"
                          ],
                          [
                            0.8888888888888888,
                            "#fdca26"
                          ],
                          [
                            1,
                            "#f0f921"
                          ]
                        ],
                        "type": "histogram2dcontour"
                      }
                    ],
                    "mesh3d": [
                      {
                        "colorbar": {
                          "outlinewidth": 0,
                          "ticks": ""
                        },
                        "type": "mesh3d"
                      }
                    ],
                    "parcoords": [
                      {
                        "line": {
                          "colorbar": {
                            "outlinewidth": 0,
                            "ticks": ""
                          }
                        },
                        "type": "parcoords"
                      }
                    ],
                    "pie": [
                      {
                        "automargin": true,
                        "type": "pie"
                      }
                    ],
                    "scatter": [
                      {
                        "fillpattern": {
                          "fillmode": "overlay",
                          "size": 10,
                          "solidity": 0.2
                        },
                        "type": "scatter"
                      }
                    ],
                    "scatter3d": [
                      {
                        "line": {
                          "colorbar": {
                            "outlinewidth": 0,
                            "ticks": ""
                          }
                        },
                        "marker": {
                          "colorbar": {
                            "outlinewidth": 0,
                            "ticks": ""
                          }
                        },
                        "type": "scatter3d"
                      }
                    ],
                    "scattercarpet": [
                      {
                        "marker": {
                          "colorbar": {
                            "outlinewidth": 0,
                            "ticks": ""
                          }
                        },
                        "type": "scattercarpet"
                      }
                    ],
                    "scattergeo": [
                      {
                        "marker": {
                          "colorbar": {
                            "outlinewidth": 0,
                            "ticks": ""
                          }
                        },
                        "type": "scattergeo"
                      }
                    ],
                    "scattergl": [
                      {
                        "marker": {
                          "colorbar": {
                            "outlinewidth": 0,
                            "ticks": ""
                          }
                        },
                        "type": "scattergl"
                      }
                    ],
                    "scattermap": [
                      {
                        "marker": {
                          "colorbar": {
                            "outlinewidth": 0,
                            "ticks": ""
                          }
                        },
                        "type": "scattermap"
                      }
                    ],
                    "scattermapbox": [
                      {
                        "marker": {
                          "colorbar": {
                            "outlinewidth": 0,
                            "ticks": ""
                          }
                        },
                        "type": "scattermapbox"
                      }
                    ],
                    "scatterpolar": [
                      {
                        "marker": {
                          "colorbar": {
                            "outlinewidth": 0,
                            "ticks": ""
                          }
                        },
                        "type": "scatterpolar"
                      }
                    ],
                    "scatterpolargl": [
                      {
                        "marker": {
                          "colorbar": {
                            "outlinewidth": 0,
                            "ticks": ""
                          }
                        },
                        "type": "scatterpolargl"
                      }
                    ],
                    "scatterternary": [
                      {
                        "marker": {
                          "colorbar": {
                            "outlinewidth": 0,
                            "ticks": ""
                          }
                        },
                        "type": "scatterternary"
                      }
                    ],
                    "surface": [
                      {
                        "colorbar": {
                          "outlinewidth": 0,
                          "ticks": ""
                        },
                        "colorscale": [
                          [
                            0,
                            "#0d0887"
                          ],
                          [
                            0.1111111111111111,
                            "#46039f"
                          ],
                          [
                            0.2222222222222222,
                            "#7201a8"
                          ],
                          [
                            0.3333333333333333,
                            "#9c179e"
                          ],
                          [
                            0.4444444444444444,
                            "#bd3786"
                          ],
                          [
                            0.5555555555555556,
                            "#d8576b"
                          ],
                          [
                            0.6666666666666666,
                            "#ed7953"
                          ],
                          [
                            0.7777777777777778,
                            "#fb9f3a"
                          ],
                          [
                            0.8888888888888888,
                            "#fdca26"
                          ],
                          [
                            1,
                            "#f0f921"
                          ]
                        ],
                        "type": "surface"
                      }
                    ],
                    "table": [
                      {
                        "cells": {
                          "fill": {
                            "color": "#EBF0F8"
                          },
                          "line": {
                            "color": "white"
                          }
                        },
                        "header": {
                          "fill": {
                            "color": "#C8D4E3"
                          },
                          "line": {
                            "color": "white"
                          }
                        },
                        "type": "table"
                      }
                    ]
                  },
                  "layout": {
                    "annotationdefaults": {
                      "arrowcolor": "#2a3f5f",
                      "arrowhead": 0,
                      "arrowwidth": 1
                    },
                    "autotypenumbers": "strict",
                    "coloraxis": {
                      "colorbar": {
                        "outlinewidth": 0,
                        "ticks": ""
                      }
                    },
                    "colorscale": {
                      "diverging": [
                        [
                          0,
                          "#8e0152"
                        ],
                        [
                          0.1,
                          "#c51b7d"
                        ],
                        [
                          0.2,
                          "#de77ae"
                        ],
                        [
                          0.3,
                          "#f1b6da"
                        ],
                        [
                          0.4,
                          "#fde0ef"
                        ],
                        [
                          0.5,
                          "#f7f7f7"
                        ],
                        [
                          0.6,
                          "#e6f5d0"
                        ],
                        [
                          0.7,
                          "#b8e186"
                        ],
                        [
                          0.8,
                          "#7fbc41"
                        ],
                        [
                          0.9,
                          "#4d9221"
                        ],
                        [
                          1,
                          "#276419"
                        ]
                      ],
                      "sequential": [
                        [
                          0,
                          "#0d0887"
                        ],
                        [
                          0.1111111111111111,
                          "#46039f"
                        ],
                        [
                          0.2222222222222222,
                          "#7201a8"
                        ],
                        [
                          0.3333333333333333,
                          "#9c179e"
                        ],
                        [
                          0.4444444444444444,
                          "#bd3786"
                        ],
                        [
                          0.5555555555555556,
                          "#d8576b"
                        ],
                        [
                          0.6666666666666666,
                          "#ed7953"
                        ],
                        [
                          0.7777777777777778,
                          "#fb9f3a"
                        ],
                        [
                          0.8888888888888888,
                          "#fdca26"
                        ],
                        [
                          1,
                          "#f0f921"
                        ]
                      ],
                      "sequentialminus": [
                        [
                          0,
                          "#0d0887"
                        ],
                        [
                          0.1111111111111111,
                          "#46039f"
                        ],
                        [
                          0.2222222222222222,
                          "#7201a8"
                        ],
                        [
                          0.3333333333333333,
                          "#9c179e"
                        ],
                        [
                          0.4444444444444444,
                          "#bd3786"
                        ],
                        [
                          0.5555555555555556,
                          "#d8576b"
                        ],
                        [
                          0.6666666666666666,
                          "#ed7953"
                        ],
                        [
                          0.7777777777777778,
                          "#fb9f3a"
                        ],
                        [
                          0.8888888888888888,
                          "#fdca26"
                        ],
                        [
                          1,
                          "#f0f921"
                        ]
                      ]
                    },
                    "colorway": [
                      "#636efa",
                      "#EF553B",
                      "#00cc96",
                      "#ab63fa",
                      "#FFA15A",
                      "#19d3f3",
                      "#FF6692",
                      "#B6E880",
                      "#FF97FF",
                      "#FECB52"
                    ],
                    "font": {
                      "color": "#2a3f5f"
                    },
                    "geo": {
                      "bgcolor": "white",
                      "lakecolor": "white",
                      "landcolor": "#E5ECF6",
                      "showlakes": true,
                      "showland": true,
                      "subunitcolor": "white"
                    },
                    "hoverlabel": {
                      "align": "left"
                    },
                    "hovermode": "closest",
                    "mapbox": {
                      "style": "light"
                    },
                    "paper_bgcolor": "white",
                    "plot_bgcolor": "#E5ECF6",
                    "polar": {
                      "angularaxis": {
                        "gridcolor": "white",
                        "linecolor": "white",
                        "ticks": ""
                      },
                      "bgcolor": "#E5ECF6",
                      "radialaxis": {
                        "gridcolor": "white",
                        "linecolor": "white",
                        "ticks": ""
                      }
                    },
                    "scene": {
                      "xaxis": {
                        "backgroundcolor": "#E5ECF6",
                        "gridcolor": "white",
                        "gridwidth": 2,
                        "linecolor": "white",
                        "showbackground": true,
                        "ticks": "",
                        "zerolinecolor": "white"
                      },
                      "yaxis": {
                        "backgroundcolor": "#E5ECF6",
                        "gridcolor": "white",
                        "gridwidth": 2,
                        "linecolor": "white",
                        "showbackground": true,
                        "ticks": "",
                        "zerolinecolor": "white"
                      },
                      "zaxis": {
                        "backgroundcolor": "#E5ECF6",
                        "gridcolor": "white",
                        "gridwidth": 2,
                        "linecolor": "white",
                        "showbackground": true,
                        "ticks": "",
                        "zerolinecolor": "white"
                      }
                    },
                    "shapedefaults": {
                      "line": {
                        "color": "#2a3f5f"
                      }
                    },
                    "ternary": {
                      "aaxis": {
                        "gridcolor": "white",
                        "linecolor": "white",
                        "ticks": ""
                      },
                      "baxis": {
                        "gridcolor": "white",
                        "linecolor": "white",
                        "ticks": ""
                      },
                      "bgcolor": "#E5ECF6",
                      "caxis": {
                        "gridcolor": "white",
                        "linecolor": "white",
                        "ticks": ""
                      }
                    },
                    "title": {
                      "x": 0.05
                    },
                    "xaxis": {
                      "automargin": true,
                      "gridcolor": "white",
                      "linecolor": "white",
                      "ticks": "",
                      "title": {
                        "standoff": 15
                      },
                      "zerolinecolor": "white",
                      "zerolinewidth": 2
                    },
                    "yaxis": {
                      "automargin": true,
                      "gridcolor": "white",
                      "linecolor": "white",
                      "ticks": "",
                      "title": {
                        "standoff": 15
                      },
                      "zerolinecolor": "white",
                      "zerolinewidth": 2
                    }
                  }
                },
                "xaxis": {
                  "anchor": "y",
                  "categoryarray": [
                    "suicide",
                    "non-suicide"
                  ],
                  "categoryorder": "array",
                  "domain": [
                    0,
                    1
                  ],
                  "title": {
                    "text": "class"
                  }
                },
                "yaxis": {
                  "anchor": "x",
                  "domain": [
                    0,
                    1
                  ],
                  "title": {
                    "text": "count"
                  }
                }
              }
            }
          },
          "metadata": {},
          "output_type": "display_data"
        }
      ],
      "source": [
        "# Get value counts and create a DataFrame\n",
        "class_counts = train_data['class'].value_counts().reset_index()\n",
        "\n",
        "# Rename columns for clarity\n",
        "class_counts.columns = ['class', 'count']\n",
        "\n",
        "# Create the bar plot\n",
        "plx.bar(class_counts, x='class', y='count', color='class')"
      ]
    },
    {
      "cell_type": "code",
      "execution_count": 12,
      "id": "1ea8ba7c-03f8-4e5d-a2dc-e024ba6a22a5",
      "metadata": {
        "id": "1ea8ba7c-03f8-4e5d-a2dc-e024ba6a22a5"
      },
      "outputs": [],
      "source": [
        "def clean_text(text):\n",
        "    text_length=[]\n",
        "    cleaned_text=[]\n",
        "    for sent in tqdm(text):\n",
        "        sent=sent.lower()\n",
        "        sent=nfx.remove_special_characters(sent)\n",
        "        sent=nfx.remove_stopwords(sent)\n",
        "        text_length.append(len(sent.split()))\n",
        "        cleaned_text.append(sent)\n",
        "    return cleaned_text,text_length"
      ]
    },
    {
      "cell_type": "code",
      "execution_count": 13,
      "id": "13e493f1-008f-44c4-a4c7-9dcab11b9823",
      "metadata": {
        "colab": {
          "base_uri": "https://localhost:8080/"
        },
        "id": "13e493f1-008f-44c4-a4c7-9dcab11b9823",
        "outputId": "c5b34235-f7b3-4374-94c5-2b8acef2d6d8"
      },
      "outputs": [
        {
          "name": "stderr",
          "output_type": "stream",
          "text": [
            "100%|██████████| 185659/185659 [00:05<00:00, 32157.74it/s]\n",
            "100%|██████████| 46415/46415 [00:01<00:00, 31952.46it/s]\n"
          ]
        }
      ],
      "source": [
        "cleaned_train_text,train_text_length=clean_text(train_data.text)\n",
        "cleaned_test_text,test_text_length=clean_text(test_data.text)"
      ]
    },
    {
      "cell_type": "code",
      "execution_count": 14,
      "id": "c04fa244-9fb6-4889-918f-8d354b13a7c9",
      "metadata": {
        "id": "c04fa244-9fb6-4889-918f-8d354b13a7c9"
      },
      "outputs": [],
      "source": [
        "from tensorflow.keras.preprocessing.text import Tokenizer\n",
        "\n",
        "# Initialize and use the Tokenizer\n",
        "tokenizer = Tokenizer()\n",
        "tokenizer.fit_on_texts(cleaned_train_text)"
      ]
    },
    {
      "cell_type": "code",
      "execution_count": 15,
      "id": "961e1952-58ab-4ba0-b26b-be4514e767e5",
      "metadata": {
        "id": "961e1952-58ab-4ba0-b26b-be4514e767e5"
      },
      "outputs": [],
      "source": [
        "train_text_seq=tokenizer.texts_to_sequences(cleaned_train_text)\n",
        "train_text_pad=pad_sequences(train_text_seq,maxlen=40)\n",
        "\n",
        "\n",
        "test_text_seq=tokenizer.texts_to_sequences(cleaned_test_text)\n",
        "test_text_pad=pad_sequences(test_text_seq,maxlen=40)"
      ]
    },
    {
      "cell_type": "code",
      "execution_count": 16,
      "id": "bc4e9043-f305-4949-bc4b-b2a2f99a15d6",
      "metadata": {
        "colab": {
          "base_uri": "https://localhost:8080/"
        },
        "id": "bc4e9043-f305-4949-bc4b-b2a2f99a15d6",
        "outputId": "33f711d6-e949-4942-a0e8-dda6391d9b74"
      },
      "outputs": [
        {
          "data": {
            "text/plain": [
              "array([[    0,     0,     0, ...,   176,  3027,     3],\n",
              "       [    0,     0,     0, ...,   163,   508,  1642],\n",
              "       [    9, 87751,    60, ...,    77,   240,    96],\n",
              "       ...,\n",
              "       [    0,     0,     0, ...,   328,     2,     4],\n",
              "       [    0,     0,     4, ...,    65,    26,    16],\n",
              "       [  558,    21,    63, ...,     2,     4,    16]],\n",
              "      shape=(185659, 40), dtype=int32)"
            ]
          },
          "execution_count": 16,
          "metadata": {},
          "output_type": "execute_result"
        }
      ],
      "source": [
        "train_text_pad"
      ]
    },
    {
      "cell_type": "code",
      "execution_count": 17,
      "id": "7e4886d4-315d-44ba-a2da-60bb7cc15aab",
      "metadata": {
        "id": "7e4886d4-315d-44ba-a2da-60bb7cc15aab"
      },
      "outputs": [],
      "source": [
        "lbl_target=LabelEncoder()\n",
        "train_output=lbl_target.fit_transform(train_data['class'])\n",
        "test_output=lbl_target.transform(test_data['class'])"
      ]
    },
    {
      "cell_type": "code",
      "execution_count": 18,
      "id": "055d274c-6766-40c4-aaf8-9e2165c6add1",
      "metadata": {
        "id": "055d274c-6766-40c4-aaf8-9e2165c6add1"
      },
      "outputs": [],
      "source": [
        "import pickle\n",
        "\n",
        "with open(r'a.pkl', 'rb') as fp:\n",
        "    glove_embedding = pickle.load(fp)\n"
      ]
    },
    {
      "cell_type": "code",
      "execution_count": 19,
      "id": "620a6cc4-5a07-4e97-be37-445390853cc3",
      "metadata": {
        "id": "620a6cc4-5a07-4e97-be37-445390853cc3"
      },
      "outputs": [],
      "source": [
        "v=len(tokenizer.word_index)\n",
        "\n",
        "embedding_matrix=np.zeros((v+1,300), dtype=float)\n",
        "for word,idx in tokenizer.word_index.items():\n",
        "    embedding_vector=glove_embedding.get(word)\n",
        "    if embedding_vector is not None:\n",
        "        embedding_matrix[idx]=embedding_vector"
      ]
    },
    {
      "cell_type": "code",
      "execution_count": 20,
      "id": "adb88222-2d44-4d55-8d9b-afd6e15f4387",
      "metadata": {
        "colab": {
          "base_uri": "https://localhost:8080/"
        },
        "id": "adb88222-2d44-4d55-8d9b-afd6e15f4387",
        "outputId": "2eae24c7-a3c4-43b3-eac5-0d683ebc99dd"
      },
      "outputs": [
        {
          "data": {
            "text/plain": [
              "array([[ 0.        ,  0.        ,  0.        , ...,  0.        ,\n",
              "         0.        ,  0.        ],\n",
              "       [ 0.074482  ,  0.58293003, -0.78233999, ..., -0.24984001,\n",
              "        -0.096953  ,  0.66692001],\n",
              "       [-0.35394999,  0.23051   , -0.62689   , ..., -0.20720001,\n",
              "         0.52003002,  0.51129001],\n",
              "       ...,\n",
              "       [ 0.        ,  0.        ,  0.        , ...,  0.        ,\n",
              "         0.        ,  0.        ],\n",
              "       [ 0.29547   , -0.21822999, -0.039817  , ...,  0.62642998,\n",
              "         0.48798001, -0.47554001],\n",
              "       [ 0.75085002, -0.35099   ,  0.37674999, ..., -0.066863  ,\n",
              "         0.79632998, -0.05967   ]], shape=(271869, 300))"
            ]
          },
          "execution_count": 20,
          "metadata": {},
          "output_type": "execute_result"
        }
      ],
      "source": [
        "embedding_matrix"
      ]
    },
    {
      "cell_type": "code",
      "execution_count": 21,
      "id": "9780a120-be21-40dd-8081-bf3c18d0b20a",
      "metadata": {
        "id": "9780a120-be21-40dd-8081-bf3c18d0b20a"
      },
      "outputs": [],
      "source": [
        "early_stop=EarlyStopping(patience=5)\n",
        "reducelr=ReduceLROnPlateau(patience=3)"
      ]
    },
    {
      "cell_type": "code",
      "execution_count": 22,
      "id": "e8f18c76-2e6f-4f9a-932c-4eeb351924c8",
      "metadata": {
        "id": "e8f18c76-2e6f-4f9a-932c-4eeb351924c8"
      },
      "outputs": [],
      "source": [
        "model=Sequential()\n",
        "model.add(Input(shape=(40,)))\n",
        "model.add(Embedding(v+1,300,weights=[embedding_matrix],trainable=False))\n",
        "model.add(LSTM(20,return_sequences=True))\n",
        "model.add(GlobalMaxPooling1D())\n",
        "model.add(Dense(256,activation='relu'))\n",
        "model.add(Dense(1,activation='sigmoid'))\n",
        "model.compile(optimizer=keras.optimizers.SGD(0.1,momentum=0.09),loss='binary_crossentropy',metrics=['accuracy'])"
      ]
    },
    {
      "cell_type": "code",
      "execution_count": 23,
      "id": "9ed99e33-5bfc-41e5-b81c-a6ec40b3b567",
      "metadata": {
        "colab": {
          "base_uri": "https://localhost:8080/",
          "height": 323
        },
        "id": "9ed99e33-5bfc-41e5-b81c-a6ec40b3b567",
        "outputId": "5fcf0151-44ee-4e07-8ca7-1efce82a6b3f"
      },
      "outputs": [
        {
          "data": {
            "text/html": [
              "<pre style=\"white-space:pre;overflow-x:auto;line-height:normal;font-family:Menlo,'DejaVu Sans Mono',consolas,'Courier New',monospace\"><span style=\"font-weight: bold\">Model: \"sequential\"</span>\n",
              "</pre>\n"
            ],
            "text/plain": [
              "\u001b[1mModel: \"sequential\"\u001b[0m\n"
            ]
          },
          "metadata": {},
          "output_type": "display_data"
        },
        {
          "data": {
            "text/html": [
              "<pre style=\"white-space:pre;overflow-x:auto;line-height:normal;font-family:Menlo,'DejaVu Sans Mono',consolas,'Courier New',monospace\">┏━━━━━━━━━━━━━━━━━━━━━━━━━━━━━━━━━┳━━━━━━━━━━━━━━━━━━━━━━━━┳━━━━━━━━━━━━━━━┓\n",
              "┃<span style=\"font-weight: bold\"> Layer (type)                    </span>┃<span style=\"font-weight: bold\"> Output Shape           </span>┃<span style=\"font-weight: bold\">       Param # </span>┃\n",
              "┡━━━━━━━━━━━━━━━━━━━━━━━━━━━━━━━━━╇━━━━━━━━━━━━━━━━━━━━━━━━╇━━━━━━━━━━━━━━━┩\n",
              "│ embedding (<span style=\"color: #0087ff; text-decoration-color: #0087ff\">Embedding</span>)           │ (<span style=\"color: #00d7ff; text-decoration-color: #00d7ff\">None</span>, <span style=\"color: #00af00; text-decoration-color: #00af00\">40</span>, <span style=\"color: #00af00; text-decoration-color: #00af00\">300</span>)        │    <span style=\"color: #00af00; text-decoration-color: #00af00\">81,560,700</span> │\n",
              "├─────────────────────────────────┼────────────────────────┼───────────────┤\n",
              "│ lstm (<span style=\"color: #0087ff; text-decoration-color: #0087ff\">LSTM</span>)                     │ (<span style=\"color: #00d7ff; text-decoration-color: #00d7ff\">None</span>, <span style=\"color: #00af00; text-decoration-color: #00af00\">40</span>, <span style=\"color: #00af00; text-decoration-color: #00af00\">20</span>)         │        <span style=\"color: #00af00; text-decoration-color: #00af00\">25,680</span> │\n",
              "├─────────────────────────────────┼────────────────────────┼───────────────┤\n",
              "│ global_max_pooling1d            │ (<span style=\"color: #00d7ff; text-decoration-color: #00d7ff\">None</span>, <span style=\"color: #00af00; text-decoration-color: #00af00\">20</span>)             │             <span style=\"color: #00af00; text-decoration-color: #00af00\">0</span> │\n",
              "│ (<span style=\"color: #0087ff; text-decoration-color: #0087ff\">GlobalMaxPooling1D</span>)            │                        │               │\n",
              "├─────────────────────────────────┼────────────────────────┼───────────────┤\n",
              "│ dense (<span style=\"color: #0087ff; text-decoration-color: #0087ff\">Dense</span>)                   │ (<span style=\"color: #00d7ff; text-decoration-color: #00d7ff\">None</span>, <span style=\"color: #00af00; text-decoration-color: #00af00\">256</span>)            │         <span style=\"color: #00af00; text-decoration-color: #00af00\">5,376</span> │\n",
              "├─────────────────────────────────┼────────────────────────┼───────────────┤\n",
              "│ dense_1 (<span style=\"color: #0087ff; text-decoration-color: #0087ff\">Dense</span>)                 │ (<span style=\"color: #00d7ff; text-decoration-color: #00d7ff\">None</span>, <span style=\"color: #00af00; text-decoration-color: #00af00\">1</span>)              │           <span style=\"color: #00af00; text-decoration-color: #00af00\">257</span> │\n",
              "└─────────────────────────────────┴────────────────────────┴───────────────┘\n",
              "</pre>\n"
            ],
            "text/plain": [
              "┏━━━━━━━━━━━━━━━━━━━━━━━━━━━━━━━━━┳━━━━━━━━━━━━━━━━━━━━━━━━┳━━━━━━━━━━━━━━━┓\n",
              "┃\u001b[1m \u001b[0m\u001b[1mLayer (type)                   \u001b[0m\u001b[1m \u001b[0m┃\u001b[1m \u001b[0m\u001b[1mOutput Shape          \u001b[0m\u001b[1m \u001b[0m┃\u001b[1m \u001b[0m\u001b[1m      Param #\u001b[0m\u001b[1m \u001b[0m┃\n",
              "┡━━━━━━━━━━━━━━━━━━━━━━━━━━━━━━━━━╇━━━━━━━━━━━━━━━━━━━━━━━━╇━━━━━━━━━━━━━━━┩\n",
              "│ embedding (\u001b[38;5;33mEmbedding\u001b[0m)           │ (\u001b[38;5;45mNone\u001b[0m, \u001b[38;5;34m40\u001b[0m, \u001b[38;5;34m300\u001b[0m)        │    \u001b[38;5;34m81,560,700\u001b[0m │\n",
              "├─────────────────────────────────┼────────────────────────┼───────────────┤\n",
              "│ lstm (\u001b[38;5;33mLSTM\u001b[0m)                     │ (\u001b[38;5;45mNone\u001b[0m, \u001b[38;5;34m40\u001b[0m, \u001b[38;5;34m20\u001b[0m)         │        \u001b[38;5;34m25,680\u001b[0m │\n",
              "├─────────────────────────────────┼────────────────────────┼───────────────┤\n",
              "│ global_max_pooling1d            │ (\u001b[38;5;45mNone\u001b[0m, \u001b[38;5;34m20\u001b[0m)             │             \u001b[38;5;34m0\u001b[0m │\n",
              "│ (\u001b[38;5;33mGlobalMaxPooling1D\u001b[0m)            │                        │               │\n",
              "├─────────────────────────────────┼────────────────────────┼───────────────┤\n",
              "│ dense (\u001b[38;5;33mDense\u001b[0m)                   │ (\u001b[38;5;45mNone\u001b[0m, \u001b[38;5;34m256\u001b[0m)            │         \u001b[38;5;34m5,376\u001b[0m │\n",
              "├─────────────────────────────────┼────────────────────────┼───────────────┤\n",
              "│ dense_1 (\u001b[38;5;33mDense\u001b[0m)                 │ (\u001b[38;5;45mNone\u001b[0m, \u001b[38;5;34m1\u001b[0m)              │           \u001b[38;5;34m257\u001b[0m │\n",
              "└─────────────────────────────────┴────────────────────────┴───────────────┘\n"
            ]
          },
          "metadata": {},
          "output_type": "display_data"
        },
        {
          "data": {
            "text/html": [
              "<pre style=\"white-space:pre;overflow-x:auto;line-height:normal;font-family:Menlo,'DejaVu Sans Mono',consolas,'Courier New',monospace\"><span style=\"font-weight: bold\"> Total params: </span><span style=\"color: #00af00; text-decoration-color: #00af00\">81,592,013</span> (311.25 MB)\n",
              "</pre>\n"
            ],
            "text/plain": [
              "\u001b[1m Total params: \u001b[0m\u001b[38;5;34m81,592,013\u001b[0m (311.25 MB)\n"
            ]
          },
          "metadata": {},
          "output_type": "display_data"
        },
        {
          "data": {
            "text/html": [
              "<pre style=\"white-space:pre;overflow-x:auto;line-height:normal;font-family:Menlo,'DejaVu Sans Mono',consolas,'Courier New',monospace\"><span style=\"font-weight: bold\"> Trainable params: </span><span style=\"color: #00af00; text-decoration-color: #00af00\">31,313</span> (122.32 KB)\n",
              "</pre>\n"
            ],
            "text/plain": [
              "\u001b[1m Trainable params: \u001b[0m\u001b[38;5;34m31,313\u001b[0m (122.32 KB)\n"
            ]
          },
          "metadata": {},
          "output_type": "display_data"
        },
        {
          "data": {
            "text/html": [
              "<pre style=\"white-space:pre;overflow-x:auto;line-height:normal;font-family:Menlo,'DejaVu Sans Mono',consolas,'Courier New',monospace\"><span style=\"font-weight: bold\"> Non-trainable params: </span><span style=\"color: #00af00; text-decoration-color: #00af00\">81,560,700</span> (311.13 MB)\n",
              "</pre>\n"
            ],
            "text/plain": [
              "\u001b[1m Non-trainable params: \u001b[0m\u001b[38;5;34m81,560,700\u001b[0m (311.13 MB)\n"
            ]
          },
          "metadata": {},
          "output_type": "display_data"
        }
      ],
      "source": [
        "model.summary()"
      ]
    },
    {
      "cell_type": "code",
      "execution_count": 24,
      "id": "a497cb4b-66fd-4a8e-9275-dd684732e6fc",
      "metadata": {
        "colab": {
          "base_uri": "https://localhost:8080/"
        },
        "id": "a497cb4b-66fd-4a8e-9275-dd684732e6fc",
        "outputId": "1e5cdd44-5ba7-4652-9a75-9711956e0182"
      },
      "outputs": [
        {
          "name": "stdout",
          "output_type": "stream",
          "text": [
            "Epoch 1/5\n",
            "\u001b[1m726/726\u001b[0m \u001b[32m━━━━━━━━━━━━━━━━━━━━\u001b[0m\u001b[37m\u001b[0m \u001b[1m23s\u001b[0m 29ms/step - accuracy: 0.7762 - loss: 0.4609 - val_accuracy: 0.8953 - val_loss: 0.2615 - learning_rate: 0.1000\n",
            "Epoch 2/5\n",
            "\u001b[1m726/726\u001b[0m \u001b[32m━━━━━━━━━━━━━━━━━━━━\u001b[0m\u001b[37m\u001b[0m \u001b[1m24s\u001b[0m 33ms/step - accuracy: 0.8943 - loss: 0.2638 - val_accuracy: 0.8786 - val_loss: 0.2928 - learning_rate: 0.1000\n",
            "Epoch 3/5\n",
            "\u001b[1m726/726\u001b[0m \u001b[32m━━━━━━━━━━━━━━━━━━━━\u001b[0m\u001b[37m\u001b[0m \u001b[1m23s\u001b[0m 31ms/step - accuracy: 0.9042 - loss: 0.2409 - val_accuracy: 0.9103 - val_loss: 0.2270 - learning_rate: 0.1000\n",
            "Epoch 4/5\n",
            "\u001b[1m726/726\u001b[0m \u001b[32m━━━━━━━━━━━━━━━━━━━━\u001b[0m\u001b[37m\u001b[0m \u001b[1m24s\u001b[0m 33ms/step - accuracy: 0.9106 - loss: 0.2249 - val_accuracy: 0.9179 - val_loss: 0.2112 - learning_rate: 0.1000\n",
            "Epoch 5/5\n",
            "\u001b[1m726/726\u001b[0m \u001b[32m━━━━━━━━━━━━━━━━━━━━\u001b[0m\u001b[37m\u001b[0m \u001b[1m23s\u001b[0m 32ms/step - accuracy: 0.9199 - loss: 0.2052 - val_accuracy: 0.9141 - val_loss: 0.2169 - learning_rate: 0.1000\n"
          ]
        }
      ],
      "source": [
        "r=model.fit(train_text_pad,train_output,validation_data=(test_text_pad,test_output),\n",
        "            epochs=5,batch_size=256,callbacks=[early_stop,reducelr])"
      ]
    },
    {
      "cell_type": "code",
      "execution_count": 25,
      "id": "89552ead-698b-4c0f-97ff-aa1c5fe9ca38",
      "metadata": {
        "colab": {
          "base_uri": "https://localhost:8080/"
        },
        "id": "89552ead-698b-4c0f-97ff-aa1c5fe9ca38",
        "outputId": "4f1af127-095c-432f-87de-d236f1cd7338"
      },
      "outputs": [
        {
          "name": "stdout",
          "output_type": "stream",
          "text": [
            "\u001b[1m1451/1451\u001b[0m \u001b[32m━━━━━━━━━━━━━━━━━━━━\u001b[0m\u001b[37m\u001b[0m \u001b[1m6s\u001b[0m 4ms/step\n",
            "TESTING DATA CLASSIFICATION REPORT \n",
            " \n",
            "\n",
            "              precision    recall  f1-score   support\n",
            "\n",
            " non-suicide       0.89      0.94      0.92     23209\n",
            "     suicide       0.94      0.89      0.91     23206\n",
            "\n",
            "    accuracy                           0.91     46415\n",
            "   macro avg       0.92      0.91      0.91     46415\n",
            "weighted avg       0.92      0.91      0.91     46415\n",
            "\n",
            "\u001b[1m5802/5802\u001b[0m \u001b[32m━━━━━━━━━━━━━━━━━━━━\u001b[0m\u001b[37m\u001b[0m \u001b[1m25s\u001b[0m 4ms/step\n",
            "TRAINING DATA CLASSIFICATION REPORT \n",
            " \n",
            "\n",
            "              precision    recall  f1-score   support\n",
            "\n",
            " non-suicide       0.91      0.94      0.92     92828\n",
            "     suicide       0.94      0.91      0.92     92831\n",
            "\n",
            "    accuracy                           0.92    185659\n",
            "   macro avg       0.92      0.92      0.92    185659\n",
            "weighted avg       0.92      0.92      0.92    185659\n",
            "\n"
          ]
        }
      ],
      "source": [
        "from sklearn.metrics import classification_report\n",
        "\n",
        "# Generate predictions for testing data\n",
        "test_predictions = model.predict(test_text_pad)  # Get probabilities\n",
        "# Convert probabilities to class labels (0 or 1)\n",
        "test_pred_classes = (test_predictions > 0.5).astype(int)\n",
        "\n",
        "print('TESTING DATA CLASSIFICATION REPORT \\n \\n')\n",
        "print(classification_report(test_output, test_pred_classes,\n",
        "                            target_names=lbl_target.inverse_transform([0, 1])))\n",
        "\n",
        "# Generate predictions for training data\n",
        "train_predictions = model.predict(train_text_pad)  # Get probabilities\n",
        "# Convert probabilities to class labels (0 or 1)\n",
        "train_pred_classes = (train_predictions > 0.5).astype(int)\n",
        "\n",
        "print('TRAINING DATA CLASSIFICATION REPORT \\n \\n')\n",
        "print(classification_report(train_output, train_pred_classes,\n",
        "                            target_names=lbl_target.inverse_transform([0, 1])))"
      ]
    },
    {
      "cell_type": "code",
      "execution_count": 26,
      "id": "46d4708b-a8c3-4b18-b88f-329009185f88",
      "metadata": {
        "colab": {
          "base_uri": "https://localhost:8080/"
        },
        "id": "46d4708b-a8c3-4b18-b88f-329009185f88",
        "outputId": "1ce67213-566a-4b3c-bcd5-f95d60a7a10a"
      },
      "outputs": [
        {
          "name": "stdout",
          "output_type": "stream",
          "text": [
            "\u001b[1m1/1\u001b[0m \u001b[32m━━━━━━━━━━━━━━━━━━━━\u001b[0m\u001b[37m\u001b[0m \u001b[1m0s\u001b[0m 145ms/step\n",
            "0.3242924\n",
            "Non Suicide Post\n"
          ]
        }
      ],
      "source": [
        "twt = ['i am very happy']\n",
        "twt = tokenizer.texts_to_sequences(twt)\n",
        "twt = pad_sequences(twt, maxlen=50)\n",
        "\n",
        "prediction = model.predict(twt)[0][0]\n",
        "print(prediction)\n",
        "\n",
        "if(prediction > 0.5):\n",
        "    print(\"Potential Suicide Post\")\n",
        "else:\n",
        "    print(\"Non Suicide Post\")"
      ]
    },
    {
      "cell_type": "code",
      "execution_count": 27,
      "id": "0ec3c1cd-df10-4bee-ba6a-9d2174efc654",
      "metadata": {
        "id": "0ec3c1cd-df10-4bee-ba6a-9d2174efc654"
      },
      "outputs": [],
      "source": [
        "pickle.dump(tokenizer, open('tokenizer.pkl', 'wb'))"
      ]
    },
    {
      "cell_type": "code",
      "execution_count": 28,
      "id": "a3f06d2a-ac25-44c9-b441-84f2f40f1c70",
      "metadata": {
        "id": "a3f06d2a-ac25-44c9-b441-84f2f40f1c70"
      },
      "outputs": [],
      "source": [
        "model.save(\"model.keras\")"
      ]
    },
    {
      "cell_type": "code",
      "execution_count": 29,
      "id": "3784dc3d-3b9f-4c41-b05c-3cc50f3912a7",
      "metadata": {
        "id": "3784dc3d-3b9f-4c41-b05c-3cc50f3912a7"
      },
      "outputs": [],
      "source": [
        "token_form = pickle.load(open('tokenizer.pkl', 'rb'))\n"
      ]
    },
    {
      "cell_type": "code",
      "execution_count": 30,
      "id": "82608b4e-5a2e-4288-ac52-5336eda8ec0e",
      "metadata": {
        "id": "82608b4e-5a2e-4288-ac52-5336eda8ec0e"
      },
      "outputs": [],
      "source": [
        "from keras.models import load_model"
      ]
    },
    {
      "cell_type": "code",
      "execution_count": 31,
      "id": "470e0347-62d3-4880-bad5-7defdae31c1b",
      "metadata": {
        "id": "470e0347-62d3-4880-bad5-7defdae31c1b"
      },
      "outputs": [],
      "source": [
        "model_form = load_model(\"model.keras\")"
      ]
    },
    {
      "cell_type": "code",
      "execution_count": 32,
      "id": "7ee7826b-0424-409e-ba94-d02eee36e82d",
      "metadata": {
        "id": "7ee7826b-0424-409e-ba94-d02eee36e82d"
      },
      "outputs": [
        {
          "name": "stdout",
          "output_type": "stream",
          "text": [
            "\u001b[1m1/1\u001b[0m \u001b[32m━━━━━━━━━━━━━━━━━━━━\u001b[0m\u001b[37m\u001b[0m \u001b[1m0s\u001b[0m 156ms/step\n",
            "0.82682747\n",
            "Potential Suicide Post\n"
          ]
        }
      ],
      "source": [
        "twt = ['Through these past years thoughts of suicide, fear, anxiety I’m so close to my limit']\n",
        "twt = token_form.texts_to_sequences(twt)\n",
        "twt = pad_sequences(twt, maxlen=40)\n",
        "\n",
        "prediction = model_form.predict(twt)[0][0]\n",
        "print(prediction)\n",
        "\n",
        "if(prediction > 0.5):\n",
        "    print(\"Potential Suicide Post\")\n",
        "elif (prediction == 1):\n",
        "    print(\"Non Suicide Post\")"
      ]
    },
    {
      "cell_type": "code",
      "execution_count": 33,
      "id": "94c2b282-8bf2-445b-ab19-56c49b2eac1f",
      "metadata": {
        "id": "94c2b282-8bf2-445b-ab19-56c49b2eac1f"
      },
      "outputs": [],
      "source": [
        "token_form = pickle.load(open('tokenizer.pkl', 'rb'))"
      ]
    },
    {
      "cell_type": "code",
      "execution_count": 34,
      "id": "d7f83067-9a44-4cf4-be60-6e0e7c5a6874",
      "metadata": {
        "id": "d7f83067-9a44-4cf4-be60-6e0e7c5a6874"
      },
      "outputs": [
        {
          "name": "stdout",
          "output_type": "stream",
          "text": [
            "\u001b[1m1/1\u001b[0m \u001b[32m━━━━━━━━━━━━━━━━━━━━\u001b[0m\u001b[37m\u001b[0m \u001b[1m0s\u001b[0m 30ms/step\n",
            "0.2838738\n",
            "Non Suicide Post\n"
          ]
        }
      ],
      "source": [
        "twt = ['i am really happy right now']\n",
        "twt = tokenizer.texts_to_sequences(twt)\n",
        "twt = pad_sequences(twt, maxlen=50)\n",
        "\n",
        "prediction = model.predict(twt)[0][0]\n",
        "print(prediction)\n",
        "\n",
        "if(prediction > 0.5):\n",
        "    print(\"Potential Suicide Post\")\n",
        "else:\n",
        "    print(\"Non Suicide Post\")"
      ]
    },
    {
      "cell_type": "code",
      "execution_count": 35,
      "id": "14521954-6e6d-4302-a650-eac1fc6b959e",
      "metadata": {
        "id": "14521954-6e6d-4302-a650-eac1fc6b959e"
      },
      "outputs": [],
      "source": [
        "import numpy as np\n",
        "import matplotlib.pyplot as plt\n",
        "import seaborn as sns\n",
        "from sklearn.metrics import confusion_matrix, classification_report"
      ]
    },
    {
      "cell_type": "code",
      "execution_count": 36,
      "id": "4fbba23b-fde3-40c3-9b19-79a5add6733f",
      "metadata": {
        "colab": {
          "base_uri": "https://localhost:8080/"
        },
        "id": "4fbba23b-fde3-40c3-9b19-79a5add6733f",
        "outputId": "f600ca78-2663-4e1b-8f0b-6e17a68fddf8"
      },
      "outputs": [
        {
          "name": "stdout",
          "output_type": "stream",
          "text": [
            "\u001b[1m1451/1451\u001b[0m \u001b[32m━━━━━━━━━━━━━━━━━━━━\u001b[0m\u001b[37m\u001b[0m \u001b[1m6s\u001b[0m 4ms/step\n"
          ]
        }
      ],
      "source": [
        "test_predictions = model.predict(test_text_pad)"
      ]
    },
    {
      "cell_type": "code",
      "execution_count": 37,
      "id": "79beaab1-508e-4cd9-9e64-2af1235a0a2d",
      "metadata": {
        "colab": {
          "base_uri": "https://localhost:8080/",
          "height": 1000
        },
        "id": "79beaab1-508e-4cd9-9e64-2af1235a0a2d",
        "outputId": "500dc916-0ce6-4eca-d9bc-74a1a17237db"
      },
      "outputs": [
        {
          "name": "stdout",
          "output_type": "stream",
          "text": [
            "\u001b[1m1451/1451\u001b[0m \u001b[32m━━━━━━━━━━━━━━━━━━━━\u001b[0m\u001b[37m\u001b[0m \u001b[1m6s\u001b[0m 4ms/step\n",
            "TESTING DATA CLASSIFICATION REPORT \n",
            "\n",
            "              precision    recall  f1-score   support\n",
            "\n",
            " non-suicide       0.89      0.94      0.92     23209\n",
            "     suicide       0.94      0.89      0.91     23206\n",
            "\n",
            "    accuracy                           0.91     46415\n",
            "   macro avg       0.92      0.91      0.91     46415\n",
            "weighted avg       0.92      0.91      0.91     46415\n",
            "\n"
          ]
        },
        {
          "data": {
            "image/png": "[encoded data removed]",
            "text/plain": [
              "<Figure size 600x400 with 2 Axes>"
            ]
          },
          "metadata": {},
          "output_type": "display_data"
        },
        {
          "name": "stdout",
          "output_type": "stream",
          "text": [
            "\u001b[1m5802/5802\u001b[0m \u001b[32m━━━━━━━━━━━━━━━━━━━━\u001b[0m\u001b[37m\u001b[0m \u001b[1m25s\u001b[0m 4ms/step\n",
            "TRAINING DATA CLASSIFICATION REPORT \n",
            "\n",
            "              precision    recall  f1-score   support\n",
            "\n",
            " non-suicide       0.91      0.94      0.92     92828\n",
            "     suicide       0.94      0.91      0.92     92831\n",
            "\n",
            "    accuracy                           0.92    185659\n",
            "   macro avg       0.92      0.92      0.92    185659\n",
            "weighted avg       0.92      0.92      0.92    185659\n",
            "\n"
          ]
        },
        {
          "data": {
            "image/png": "[encoded data removed]",
            "text/plain": [
              "<Figure size 600x400 with 2 Axes>"
            ]
          },
          "metadata": {},
          "output_type": "display_data"
        }
      ],
      "source": [
        "from sklearn.metrics import classification_report, confusion_matrix\n",
        "import seaborn as sns\n",
        "import matplotlib.pyplot as plt\n",
        "\n",
        "# Generate predictions for testing data\n",
        "test_predictions = model.predict(test_text_pad)  # Get probabilities\n",
        "# Convert probabilities to class labels (0 or 1)\n",
        "test_pred_classes = (test_predictions > 0.5).astype(int)\n",
        "\n",
        "print('TESTING DATA CLASSIFICATION REPORT \\n')\n",
        "print(classification_report(test_output, test_pred_classes,\n",
        "                            target_names=lbl_target.inverse_transform([0, 1])))\n",
        "\n",
        "# Confusion Matrix for Test Data\n",
        "conf_matrix_test = confusion_matrix(test_output, test_pred_classes)\n",
        "plt.figure(figsize=(6, 4))\n",
        "sns.heatmap(conf_matrix_test, annot=True, fmt='d', cmap='Blues',\n",
        "            xticklabels=lbl_target.inverse_transform([0, 1]),\n",
        "            yticklabels=lbl_target.inverse_transform([0, 1]))\n",
        "plt.xlabel('Predicted Label')\n",
        "plt.ylabel('True Label')\n",
        "plt.title('Confusion Matrix - Test Data')\n",
        "plt.show()\n",
        "\n",
        "\n",
        "# Generate predictions for training data\n",
        "train_predictions = model.predict(train_text_pad)  # Get probabilities\n",
        "# Convert probabilities to class labels (0 or 1)\n",
        "train_pred_classes = (train_predictions > 0.5).astype(int)\n",
        "\n",
        "print('TRAINING DATA CLASSIFICATION REPORT \\n')\n",
        "print(classification_report(train_output, train_pred_classes,\n",
        "                            target_names=lbl_target.inverse_transform([0, 1])))\n",
        "\n",
        "# Confusion Matrix for Train Data\n",
        "conf_matrix_train = confusion_matrix(train_output, train_pred_classes)\n",
        "plt.figure(figsize=(6, 4))\n",
        "sns.heatmap(conf_matrix_train, annot=True, fmt='d', cmap='Greens',\n",
        "            xticklabels=lbl_target.inverse_transform([0, 1]),\n",
        "            yticklabels=lbl_target.inverse_transform([0, 1]))\n",
        "plt.xlabel('Predicted Label')\n",
        "plt.ylabel('True Label')\n",
        "plt.title('Confusion Matrix - Train Data')\n",
        "plt.show()\n"
      ]
    },
    {
      "cell_type": "code",
      "execution_count": 38,
      "id": "3ac94a15-3cc2-4823-9753-da2b37e203a7",
      "metadata": {
        "id": "3ac94a15-3cc2-4823-9753-da2b37e203a7"
      },
      "outputs": [],
      "source": [
        "model.save('model.keras')\n"
      ]
    },
    {
      "cell_type": "code",
      "execution_count": 39,
      "id": "p5LJFjM1zKsy",
      "metadata": {
        "colab": {
          "base_uri": "https://localhost:8080/",
          "height": 478
        },
        "id": "p5LJFjM1zKsy",
        "outputId": "97566d90-a7f9-428b-9444-27e22728f119"
      },
      "outputs": [
        {
          "name": "stderr",
          "output_type": "stream",
          "text": [
            "WARNING:absl:Compiled the loaded model, but the compiled metrics have yet to be built. `model.compile_metrics` will be empty until you train or evaluate the model.\n"
          ]
        }
      ],
      "source": [
        "from tensorflow import keras\n",
        "\n",
        "model_h5 = keras.models.load_model('my_model.h5')\n",
        "\n",
        "model_keras = keras.models.load_model('model.keras')\n"
      ]
    },
    {
      "cell_type": "code",
      "execution_count": 40,
      "id": "WZ3koq00PIgH",
      "metadata": {
        "colab": {
          "base_uri": "https://localhost:8080/"
        },
        "id": "WZ3koq00PIgH",
        "outputId": "cb051922-9258-46e7-cfe1-b6bbc63e2ba4"
      },
      "outputs": [
        {
          "name": "stderr",
          "output_type": "stream",
          "text": [
            "WARNING:absl:Compiled the loaded model, but the compiled metrics have yet to be built. `model.compile_metrics` will be empty until you train or evaluate the model.\n"
          ]
        }
      ],
      "source": [
        "from tensorflow import keras\n",
        "model_h5 = keras.models.load_model('my_model.h5')\n"
      ]
    },
    {
      "cell_type": "code",
      "execution_count": 41,
      "id": "eukcQ-DJPjo7",
      "metadata": {
        "colab": {
          "base_uri": "https://localhost:8080/"
        },
        "id": "eukcQ-DJPjo7",
        "outputId": "09d75fb6-a380-4f59-9014-dbd519588e4f"
      },
      "outputs": [
        {
          "name": "stdout",
          "output_type": "stream",
          "text": [
            "\u001b[1m1/1\u001b[0m \u001b[32m━━━━━━━━━━━━━━━━━━━━\u001b[0m\u001b[37m\u001b[0m \u001b[1m0s\u001b[0m 44ms/step\n",
            "0.3242924\n",
            "Non Suicide Post\n"
          ]
        }
      ],
      "source": [
        "twt = ['i am very happy']\n",
        "twt = tokenizer.texts_to_sequences(twt)\n",
        "twt = pad_sequences(twt, maxlen=50)\n",
        "\n",
        "prediction = model.predict(twt)[0][0]\n",
        "print(prediction)\n",
        "\n",
        "if(prediction > 0.5):\n",
        "    print(\"Potential Suicide Post\")\n",
        "else:\n",
        "    print(\"Non Suicide Post\")"
      ]
    },
    {
      "cell_type": "code",
      "execution_count": 42,
      "id": "a8AmE3sqPqpY",
      "metadata": {
        "colab": {
          "base_uri": "https://localhost:8080/"
        },
        "id": "a8AmE3sqPqpY",
        "outputId": "31bcf786-ee2d-4ff4-fa29-047ac8445a0b"
      },
      "outputs": [
        {
          "name": "stdout",
          "output_type": "stream",
          "text": [
            "\u001b[1m1/1\u001b[0m \u001b[32m━━━━━━━━━━━━━━━━━━━━\u001b[0m\u001b[37m\u001b[0m \u001b[1m0s\u001b[0m 50ms/step\n",
            "0.82922727\n",
            "Potential Suicide Post\n"
          ]
        }
      ],
      "source": [
        "twt = ['I am not gonna do suicide']\n",
        "twt = tokenizer.texts_to_sequences(twt)\n",
        "twt = pad_sequences(twt, maxlen=50)\n",
        "\n",
        "prediction = model.predict(twt)[0][0]\n",
        "print(prediction)\n",
        "\n",
        "if(prediction > 0.5):\n",
        "    print(\"Potential Suicide Post\")\n",
        "else:\n",
        "    print(\"Non Suicide Post\")"
      ]
    },
    {
      "cell_type": "code",
      "execution_count": 43,
      "id": "d7HzGdA2dnTa",
      "metadata": {
        "colab": {
          "base_uri": "https://localhost:8080/"
        },
        "id": "d7HzGdA2dnTa",
        "outputId": "73eb069a-4b6e-4617-e59b-2e403be3488c"
      },
      "outputs": [
        {
          "name": "stdout",
          "output_type": "stream",
          "text": [
            "Requirement already satisfied: lime in c:\\python312\\lib\\site-packages (0.2.0.1)\n",
            "Requirement already satisfied: matplotlib in c:\\python312\\lib\\site-packages (from lime) (3.10.1)\n",
            "Requirement already satisfied: numpy in c:\\python312\\lib\\site-packages (from lime) (2.1.3)\n",
            "Requirement already satisfied: scipy in c:\\python312\\lib\\site-packages (from lime) (1.15.2)\n",
            "Requirement already satisfied: tqdm in c:\\python312\\lib\\site-packages (from lime) (4.67.1)\n",
            "Requirement already satisfied: scikit-learn>=0.18 in c:\\python312\\lib\\site-packages (from lime) (1.6.1)\n",
            "Requirement already satisfied: scikit-image>=0.12 in c:\\python312\\lib\\site-packages (from lime) (0.25.2)\n",
            "Requirement already satisfied: networkx>=3.0 in c:\\python312\\lib\\site-packages (from scikit-image>=0.12->lime) (3.4.2)\n",
            "Requirement already satisfied: pillow>=10.1 in c:\\python312\\lib\\site-packages (from scikit-image>=0.12->lime) (11.1.0)\n",
            "Requirement already satisfied: imageio!=2.35.0,>=2.33 in c:\\python312\\lib\\site-packages (from scikit-image>=0.12->lime) (2.37.0)\n",
            "Requirement already satisfied: tifffile>=2022.8.12 in c:\\python312\\lib\\site-packages (from scikit-image>=0.12->lime) (2025.3.30)\n",
            "Requirement already satisfied: packaging>=21 in c:\\users\\shash\\appdata\\roaming\\python\\python312\\site-packages (from scikit-image>=0.12->lime) (24.2)\n",
            "Requirement already satisfied: lazy-loader>=0.4 in c:\\python312\\lib\\site-packages (from scikit-image>=0.12->lime) (0.4)\n",
            "Requirement already satisfied: joblib>=1.2.0 in c:\\python312\\lib\\site-packages (from scikit-learn>=0.18->lime) (1.4.2)\n",
            "Requirement already satisfied: threadpoolctl>=3.1.0 in c:\\python312\\lib\\site-packages (from scikit-learn>=0.18->lime) (3.6.0)\n",
            "Requirement already satisfied: contourpy>=1.0.1 in c:\\python312\\lib\\site-packages (from matplotlib->lime) (1.3.1)\n",
            "Requirement already satisfied: cycler>=0.10 in c:\\python312\\lib\\site-packages (from matplotlib->lime) (0.12.1)\n",
            "Requirement already satisfied: fonttools>=4.22.0 in c:\\python312\\lib\\site-packages (from matplotlib->lime) (4.57.0)\n",
            "Requirement already satisfied: kiwisolver>=1.3.1 in c:\\python312\\lib\\site-packages (from matplotlib->lime) (1.4.8)\n",
            "Requirement already satisfied: pyparsing>=2.3.1 in c:\\python312\\lib\\site-packages (from matplotlib->lime) (3.2.3)\n",
            "Requirement already satisfied: python-dateutil>=2.7 in c:\\users\\shash\\appdata\\roaming\\python\\python312\\site-packages (from matplotlib->lime) (2.9.0.post0)\n",
            "Requirement already satisfied: colorama in c:\\python312\\lib\\site-packages (from tqdm->lime) (0.4.6)\n",
            "Requirement already satisfied: six>=1.5 in c:\\users\\shash\\appdata\\roaming\\python\\python312\\site-packages (from python-dateutil>=2.7->matplotlib->lime) (1.17.0)\n"
          ]
        },
        {
          "name": "stderr",
          "output_type": "stream",
          "text": [
            "\n",
            "[notice] A new release of pip is available: 23.2.1 -> 25.1.1\n",
            "[notice] To update, run: python.exe -m pip install --upgrade pip\n"
          ]
        }
      ],
      "source": [
        "!pip install lime\n"
      ]
    },
    {
      "cell_type": "code",
      "execution_count": 44,
      "id": "jh4lPRnydtt-",
      "metadata": {
        "colab": {
          "base_uri": "https://localhost:8080/"
        },
        "id": "jh4lPRnydtt-",
        "outputId": "47a027c5-f7e3-4a8c-a9b2-1aa642fedf44"
      },
      "outputs": [
        {
          "name": "stdout",
          "output_type": "stream",
          "text": [
            "Requirement already satisfied: neattext in c:\\python312\\lib\\site-packages (0.1.3)\n"
          ]
        },
        {
          "name": "stderr",
          "output_type": "stream",
          "text": [
            "\n",
            "[notice] A new release of pip is available: 23.2.1 -> 25.1.1\n",
            "[notice] To update, run: python.exe -m pip install --upgrade pip\n"
          ]
        }
      ],
      "source": [
        "!pip install neattext"
      ]
    },
    {
      "cell_type": "code",
      "execution_count": 45,
      "id": "3Boybp8cQJl5",
      "metadata": {
        "colab": {
          "base_uri": "https://localhost:8080/",
          "height": 403
        },
        "id": "3Boybp8cQJl5",
        "outputId": "850cfbf5-f5d4-4bb4-c0b4-316916b973d5"
      },
      "outputs": [
        {
          "name": "stderr",
          "output_type": "stream",
          "text": [
            "WARNING:absl:Compiled the loaded model, but the compiled metrics have yet to be built. `model.compile_metrics` will be empty until you train or evaluate the model.\n"
          ]
        },
        {
          "name": "stdout",
          "output_type": "stream",
          "text": [
            "\u001b[1m157/157\u001b[0m \u001b[32m━━━━━━━━━━━━━━━━━━━━\u001b[0m\u001b[37m\u001b[0m \u001b[1m1s\u001b[0m 8ms/step\n",
            "[(np.str_('suicide'), 0.48968870591274033), (np.str_('limit'), -0.12718147606022728), (np.str_('fear'), -0.09087525860076016), (np.str_('thoughts'), 0.05044462369244805), (np.str_('I'), -0.04936208156396694), (np.str_('m'), -0.046504816694626194), (np.str_('anxiety'), -0.04565264772357575), (np.str_('years'), 0.020521079983635764), (np.str_('these'), -0.002906809575048865), (np.str_('Through'), 0.002258775119888844)]\n"
          ]
        }
      ],
      "source": [
        "import numpy as np\n",
        "import pickle\n",
        "from keras.models import load_model\n",
        "from keras.preprocessing.sequence import pad_sequences\n",
        "from lime.lime_text import LimeTextExplainer\n",
        "import neattext.functions as nfx\n",
        "\n",
        "# Load the saved model (either .h5 or .keras)\n",
        "# For .h5:\n",
        "model = load_model(\"my_model.h5\")\n",
        "# Alternatively, for the native Keras format:\n",
        "# model = load_model(\"my_model.keras\")\n",
        "\n",
        "# Load your saved tokenizer\n",
        "tokenizer = pickle.load(open(\"tokenizer.pkl\", \"rb\"))\n",
        "\n",
        "# Define a custom prediction function for LIME\n",
        "def predict_fn(texts):\n",
        "    \"\"\"\n",
        "    Preprocess the input texts and return a probability array for each class.\n",
        "    Returns:\n",
        "      - Column 0: probability of non-suicide (1 - probability)\n",
        "      - Column 1: probability of suicide (probability)\n",
        "    \"\"\"\n",
        "    # Apply cleaning similar to training: lower case, remove special characters and stopwords\n",
        "    cleaned_texts = [\n",
        "        nfx.remove_stopwords(nfx.remove_special_characters(text.lower()))\n",
        "        for text in texts\n",
        "    ]\n",
        "    # Convert texts to sequences using the loaded tokenizer\n",
        "    sequences = tokenizer.texts_to_sequences(cleaned_texts)\n",
        "    # Pad sequences to the same maxlen used during training (e.g., 40)\n",
        "    padded = pad_sequences(sequences, maxlen=40)\n",
        "    # Predict using the loaded model\n",
        "    preds = model.predict(padded)\n",
        "    # Construct two-column probabilities: first column for non-suicide, second for suicide\n",
        "    return np.hstack((1 - preds, preds))\n",
        "\n",
        "# Create a LIME Text Explainer instance with your class names\n",
        "explainer = LimeTextExplainer(class_names=['non-suicide', 'suicide'])\n",
        "\n",
        "# Choose a sample text to explain\n",
        "sample_text = \"Through these past years thoughts of suicide, fear, anxiety I’m so close to my limit\"\n",
        "\n",
        "# Generate explanation using the custom prediction function\n",
        "exp = explainer.explain_instance(sample_text, predict_fn, num_features=10)\n",
        "\n",
        "# Or print a simple text explanation\n",
        "print(exp.as_list())\n"
      ]
    },
    {
      "cell_type": "code",
      "execution_count": 46,
      "id": "QyrwKW7Wcsqj",
      "metadata": {
        "id": "QyrwKW7Wcsqj"
      },
      "outputs": [],
      "source": [
        "model.compile(optimizer='adam', loss='binary_crossentropy', metrics=['accuracy'])\n"
      ]
    },
    {
      "cell_type": "code",
      "execution_count": 47,
      "id": "oeoKrEkaeT5j",
      "metadata": {
        "colab": {
          "base_uri": "https://localhost:8080/",
          "height": 403
        },
        "id": "oeoKrEkaeT5j",
        "outputId": "8c82e715-dc22-4491-f44b-5c534e2f6303"
      },
      "outputs": [
        {
          "name": "stderr",
          "output_type": "stream",
          "text": [
            "WARNING:absl:Compiled the loaded model, but the compiled metrics have yet to be built. `model.compile_metrics` will be empty until you train or evaluate the model.\n"
          ]
        },
        {
          "name": "stdout",
          "output_type": "stream",
          "text": [
            "\u001b[1m157/157\u001b[0m \u001b[32m━━━━━━━━━━━━━━━━━━━━\u001b[0m\u001b[37m\u001b[0m \u001b[1m2s\u001b[0m 11ms/step\n",
            "[(np.str_('suicide'), 0.4933299566808603), (np.str_('limit'), -0.12610699558186866), (np.str_('fear'), -0.09374303501184414), (np.str_('thoughts'), 0.05425810866258142), (np.str_('I'), -0.049985537134669675), (np.str_('m'), -0.04941564568746201), (np.str_('anxiety'), -0.04480405235820553), (np.str_('years'), 0.017833297809565378), (np.str_('close'), 0.00647546927699428), (np.str_('of'), -0.0051031956233373865)]\n"
          ]
        }
      ],
      "source": [
        "import numpy as np\n",
        "import pickle\n",
        "from keras.models import load_model\n",
        "from keras.preprocessing.sequence import pad_sequences\n",
        "from lime.lime_text import LimeTextExplainer\n",
        "import neattext.functions as nfx\n",
        "\n",
        "# Load the saved model (either .h5 or .keras)\n",
        "# For .h5:\n",
        "model = load_model(\"my_model.h5\")\n",
        "# Alternatively, for the native Keras format:\n",
        "# model = load_model(\"my_model.keras\")\n",
        "\n",
        "# Load your saved tokenizer\n",
        "tokenizer = pickle.load(open(\"tokenizer.pkl\", \"rb\"))\n",
        "\n",
        "# Define a custom prediction function for LIME\n",
        "def predict_fn(texts):\n",
        "    \"\"\"\n",
        "    Preprocess the input texts and return a probability array for each class.\n",
        "    Returns:\n",
        "      - Column 0: probability of non-suicide (1 - probability)\n",
        "      - Column 1: probability of suicide (probability)\n",
        "    \"\"\"\n",
        "    # Apply cleaning similar to training: lower case, remove special characters and stopwords\n",
        "    cleaned_texts = [\n",
        "        nfx.remove_stopwords(nfx.remove_special_characters(text.lower()))\n",
        "        for text in texts\n",
        "    ]\n",
        "    # Convert texts to sequences using the loaded tokenizer\n",
        "    sequences = tokenizer.texts_to_sequences(cleaned_texts)\n",
        "    # Pad sequences to the same maxlen used during training (e.g., 40)\n",
        "    padded = pad_sequences(sequences, maxlen=40)\n",
        "    # Predict using the loaded model\n",
        "    preds = model.predict(padded)\n",
        "    # Construct two-column probabilities: first column for non-suicide, second for suicide\n",
        "    return np.hstack((1 - preds, preds))\n",
        "\n",
        "# Create a LIME Text Explainer instance with your class names\n",
        "explainer = LimeTextExplainer(class_names=['non-suicide', 'suicide'])\n",
        "\n",
        "# Choose a sample text to explain\n",
        "sample_text = \"Through these past years thoughts of suicide, fear, anxiety I’m so close to my limit\"\n",
        "\n",
        "# Generate explanation using the custom prediction function\n",
        "exp = explainer.explain_instance(sample_text, predict_fn, num_features=10)\n",
        "\n",
        "# Or print a simple text explanation\n",
        "print(exp.as_list())\n"
      ]
    },
    {
      "cell_type": "code",
      "execution_count": 48,
      "id": "Xa2KDQDlefF6",
      "metadata": {
        "id": "Xa2KDQDlefF6"
      },
      "outputs": [],
      "source": [
        "texts = dataset['text'].tolist()  # replace 'text' with your actual column name\n"
      ]
    },
    {
      "cell_type": "code",
      "execution_count": 49,
      "id": "I_gZy4o7e0uD",
      "metadata": {
        "id": "I_gZy4o7e0uD"
      },
      "outputs": [],
      "source": [
        "def predict_fn(texts):\n",
        "    sequences = tokenizer.texts_to_sequences(texts)\n",
        "    padded = pad_sequences(sequences, maxlen=40)\n",
        "    preds = model.predict(padded)  # shape: (N, 1)\n",
        "    return np.hstack([1 - preds, preds])  # shape: (N, 2)\n"
      ]
    },
    {
      "cell_type": "code",
      "execution_count": 50,
      "id": "75zZ02i7fb9y",
      "metadata": {
        "colab": {
          "base_uri": "https://localhost:8080/",
          "height": 340
        },
        "id": "75zZ02i7fb9y",
        "outputId": "5cac8020-d5a5-4182-d966-3e3d0ed87363"
      },
      "outputs": [
        {
          "data": {
            "text/html": [
              "<pre style=\"white-space:pre;overflow-x:auto;line-height:normal;font-family:Menlo,'DejaVu Sans Mono',consolas,'Courier New',monospace\"><span style=\"font-weight: bold\">Model: \"sequential\"</span>\n",
              "</pre>\n"
            ],
            "text/plain": [
              "\u001b[1mModel: \"sequential\"\u001b[0m\n"
            ]
          },
          "metadata": {},
          "output_type": "display_data"
        },
        {
          "data": {
            "text/html": [
              "<pre style=\"white-space:pre;overflow-x:auto;line-height:normal;font-family:Menlo,'DejaVu Sans Mono',consolas,'Courier New',monospace\">┏━━━━━━━━━━━━━━━━━━━━━━━━━━━━━━━━━┳━━━━━━━━━━━━━━━━━━━━━━━━┳━━━━━━━━━━━━━━━┓\n",
              "┃<span style=\"font-weight: bold\"> Layer (type)                    </span>┃<span style=\"font-weight: bold\"> Output Shape           </span>┃<span style=\"font-weight: bold\">       Param # </span>┃\n",
              "┡━━━━━━━━━━━━━━━━━━━━━━━━━━━━━━━━━╇━━━━━━━━━━━━━━━━━━━━━━━━╇━━━━━━━━━━━━━━━┩\n",
              "│ embedding (<span style=\"color: #0087ff; text-decoration-color: #0087ff\">Embedding</span>)           │ (<span style=\"color: #00d7ff; text-decoration-color: #00d7ff\">None</span>, <span style=\"color: #00af00; text-decoration-color: #00af00\">40</span>, <span style=\"color: #00af00; text-decoration-color: #00af00\">300</span>)        │    <span style=\"color: #00af00; text-decoration-color: #00af00\">81,560,700</span> │\n",
              "├─────────────────────────────────┼────────────────────────┼───────────────┤\n",
              "│ lstm (<span style=\"color: #0087ff; text-decoration-color: #0087ff\">LSTM</span>)                     │ (<span style=\"color: #00d7ff; text-decoration-color: #00d7ff\">None</span>, <span style=\"color: #00af00; text-decoration-color: #00af00\">40</span>, <span style=\"color: #00af00; text-decoration-color: #00af00\">20</span>)         │        <span style=\"color: #00af00; text-decoration-color: #00af00\">25,680</span> │\n",
              "├─────────────────────────────────┼────────────────────────┼───────────────┤\n",
              "│ global_max_pooling1d            │ (<span style=\"color: #00d7ff; text-decoration-color: #00d7ff\">None</span>, <span style=\"color: #00af00; text-decoration-color: #00af00\">20</span>)             │             <span style=\"color: #00af00; text-decoration-color: #00af00\">0</span> │\n",
              "│ (<span style=\"color: #0087ff; text-decoration-color: #0087ff\">GlobalMaxPooling1D</span>)            │                        │               │\n",
              "├─────────────────────────────────┼────────────────────────┼───────────────┤\n",
              "│ dense (<span style=\"color: #0087ff; text-decoration-color: #0087ff\">Dense</span>)                   │ (<span style=\"color: #00d7ff; text-decoration-color: #00d7ff\">None</span>, <span style=\"color: #00af00; text-decoration-color: #00af00\">256</span>)            │         <span style=\"color: #00af00; text-decoration-color: #00af00\">5,376</span> │\n",
              "├─────────────────────────────────┼────────────────────────┼───────────────┤\n",
              "│ dense_1 (<span style=\"color: #0087ff; text-decoration-color: #0087ff\">Dense</span>)                 │ (<span style=\"color: #00d7ff; text-decoration-color: #00d7ff\">None</span>, <span style=\"color: #00af00; text-decoration-color: #00af00\">1</span>)              │           <span style=\"color: #00af00; text-decoration-color: #00af00\">257</span> │\n",
              "└─────────────────────────────────┴────────────────────────┴───────────────┘\n",
              "</pre>\n"
            ],
            "text/plain": [
              "┏━━━━━━━━━━━━━━━━━━━━━━━━━━━━━━━━━┳━━━━━━━━━━━━━━━━━━━━━━━━┳━━━━━━━━━━━━━━━┓\n",
              "┃\u001b[1m \u001b[0m\u001b[1mLayer (type)                   \u001b[0m\u001b[1m \u001b[0m┃\u001b[1m \u001b[0m\u001b[1mOutput Shape          \u001b[0m\u001b[1m \u001b[0m┃\u001b[1m \u001b[0m\u001b[1m      Param #\u001b[0m\u001b[1m \u001b[0m┃\n",
              "┡━━━━━━━━━━━━━━━━━━━━━━━━━━━━━━━━━╇━━━━━━━━━━━━━━━━━━━━━━━━╇━━━━━━━━━━━━━━━┩\n",
              "│ embedding (\u001b[38;5;33mEmbedding\u001b[0m)           │ (\u001b[38;5;45mNone\u001b[0m, \u001b[38;5;34m40\u001b[0m, \u001b[38;5;34m300\u001b[0m)        │    \u001b[38;5;34m81,560,700\u001b[0m │\n",
              "├─────────────────────────────────┼────────────────────────┼───────────────┤\n",
              "│ lstm (\u001b[38;5;33mLSTM\u001b[0m)                     │ (\u001b[38;5;45mNone\u001b[0m, \u001b[38;5;34m40\u001b[0m, \u001b[38;5;34m20\u001b[0m)         │        \u001b[38;5;34m25,680\u001b[0m │\n",
              "├─────────────────────────────────┼────────────────────────┼───────────────┤\n",
              "│ global_max_pooling1d            │ (\u001b[38;5;45mNone\u001b[0m, \u001b[38;5;34m20\u001b[0m)             │             \u001b[38;5;34m0\u001b[0m │\n",
              "│ (\u001b[38;5;33mGlobalMaxPooling1D\u001b[0m)            │                        │               │\n",
              "├─────────────────────────────────┼────────────────────────┼───────────────┤\n",
              "│ dense (\u001b[38;5;33mDense\u001b[0m)                   │ (\u001b[38;5;45mNone\u001b[0m, \u001b[38;5;34m256\u001b[0m)            │         \u001b[38;5;34m5,376\u001b[0m │\n",
              "├─────────────────────────────────┼────────────────────────┼───────────────┤\n",
              "│ dense_1 (\u001b[38;5;33mDense\u001b[0m)                 │ (\u001b[38;5;45mNone\u001b[0m, \u001b[38;5;34m1\u001b[0m)              │           \u001b[38;5;34m257\u001b[0m │\n",
              "└─────────────────────────────────┴────────────────────────┴───────────────┘\n"
            ]
          },
          "metadata": {},
          "output_type": "display_data"
        },
        {
          "data": {
            "text/html": [
              "<pre style=\"white-space:pre;overflow-x:auto;line-height:normal;font-family:Menlo,'DejaVu Sans Mono',consolas,'Courier New',monospace\"><span style=\"font-weight: bold\"> Total params: </span><span style=\"color: #00af00; text-decoration-color: #00af00\">81,592,015</span> (311.25 MB)\n",
              "</pre>\n"
            ],
            "text/plain": [
              "\u001b[1m Total params: \u001b[0m\u001b[38;5;34m81,592,015\u001b[0m (311.25 MB)\n"
            ]
          },
          "metadata": {},
          "output_type": "display_data"
        },
        {
          "data": {
            "text/html": [
              "<pre style=\"white-space:pre;overflow-x:auto;line-height:normal;font-family:Menlo,'DejaVu Sans Mono',consolas,'Courier New',monospace\"><span style=\"font-weight: bold\"> Trainable params: </span><span style=\"color: #00af00; text-decoration-color: #00af00\">31,313</span> (122.32 KB)\n",
              "</pre>\n"
            ],
            "text/plain": [
              "\u001b[1m Trainable params: \u001b[0m\u001b[38;5;34m31,313\u001b[0m (122.32 KB)\n"
            ]
          },
          "metadata": {},
          "output_type": "display_data"
        },
        {
          "data": {
            "text/html": [
              "<pre style=\"white-space:pre;overflow-x:auto;line-height:normal;font-family:Menlo,'DejaVu Sans Mono',consolas,'Courier New',monospace\"><span style=\"font-weight: bold\"> Non-trainable params: </span><span style=\"color: #00af00; text-decoration-color: #00af00\">81,560,700</span> (311.13 MB)\n",
              "</pre>\n"
            ],
            "text/plain": [
              "\u001b[1m Non-trainable params: \u001b[0m\u001b[38;5;34m81,560,700\u001b[0m (311.13 MB)\n"
            ]
          },
          "metadata": {},
          "output_type": "display_data"
        },
        {
          "data": {
            "text/html": [
              "<pre style=\"white-space:pre;overflow-x:auto;line-height:normal;font-family:Menlo,'DejaVu Sans Mono',consolas,'Courier New',monospace\"><span style=\"font-weight: bold\"> Optimizer params: </span><span style=\"color: #00af00; text-decoration-color: #00af00\">2</span> (12.00 B)\n",
              "</pre>\n"
            ],
            "text/plain": [
              "\u001b[1m Optimizer params: \u001b[0m\u001b[38;5;34m2\u001b[0m (12.00 B)\n"
            ]
          },
          "metadata": {},
          "output_type": "display_data"
        }
      ],
      "source": [
        "model.summary()"
      ]
    },
    {
      "cell_type": "code",
      "execution_count": 51,
      "id": "-yuYHRShf7uB",
      "metadata": {
        "colab": {
          "base_uri": "https://localhost:8080/"
        },
        "id": "-yuYHRShf7uB",
        "outputId": "c9b8ac2d-b8f0-4734-c7fb-66db4cd0d9e2"
      },
      "outputs": [
        {
          "name": "stderr",
          "output_type": "stream",
          "text": [
            "WARNING:absl:Compiled the loaded model, but the compiled metrics have yet to be built. `model.compile_metrics` will be empty until you train or evaluate the model.\n"
          ]
        }
      ],
      "source": [
        "model = load_model(\"my_model.h5\")"
      ]
    },
    {
      "cell_type": "code",
      "execution_count": 52,
      "id": "7kuxC55WswRB",
      "metadata": {
        "colab": {
          "base_uri": "https://localhost:8080/",
          "height": 340
        },
        "id": "7kuxC55WswRB",
        "outputId": "8aed3137-c9a4-4942-9cec-68952fa2e488"
      },
      "outputs": [
        {
          "data": {
            "text/html": [
              "<pre style=\"white-space:pre;overflow-x:auto;line-height:normal;font-family:Menlo,'DejaVu Sans Mono',consolas,'Courier New',monospace\"><span style=\"font-weight: bold\">Model: \"sequential\"</span>\n",
              "</pre>\n"
            ],
            "text/plain": [
              "\u001b[1mModel: \"sequential\"\u001b[0m\n"
            ]
          },
          "metadata": {},
          "output_type": "display_data"
        },
        {
          "data": {
            "text/html": [
              "<pre style=\"white-space:pre;overflow-x:auto;line-height:normal;font-family:Menlo,'DejaVu Sans Mono',consolas,'Courier New',monospace\">┏━━━━━━━━━━━━━━━━━━━━━━━━━━━━━━━━━┳━━━━━━━━━━━━━━━━━━━━━━━━┳━━━━━━━━━━━━━━━┓\n",
              "┃<span style=\"font-weight: bold\"> Layer (type)                    </span>┃<span style=\"font-weight: bold\"> Output Shape           </span>┃<span style=\"font-weight: bold\">       Param # </span>┃\n",
              "┡━━━━━━━━━━━━━━━━━━━━━━━━━━━━━━━━━╇━━━━━━━━━━━━━━━━━━━━━━━━╇━━━━━━━━━━━━━━━┩\n",
              "│ embedding (<span style=\"color: #0087ff; text-decoration-color: #0087ff\">Embedding</span>)           │ (<span style=\"color: #00d7ff; text-decoration-color: #00d7ff\">None</span>, <span style=\"color: #00af00; text-decoration-color: #00af00\">40</span>, <span style=\"color: #00af00; text-decoration-color: #00af00\">300</span>)        │    <span style=\"color: #00af00; text-decoration-color: #00af00\">81,560,700</span> │\n",
              "├─────────────────────────────────┼────────────────────────┼───────────────┤\n",
              "│ lstm (<span style=\"color: #0087ff; text-decoration-color: #0087ff\">LSTM</span>)                     │ (<span style=\"color: #00d7ff; text-decoration-color: #00d7ff\">None</span>, <span style=\"color: #00af00; text-decoration-color: #00af00\">40</span>, <span style=\"color: #00af00; text-decoration-color: #00af00\">20</span>)         │        <span style=\"color: #00af00; text-decoration-color: #00af00\">25,680</span> │\n",
              "├─────────────────────────────────┼────────────────────────┼───────────────┤\n",
              "│ global_max_pooling1d            │ (<span style=\"color: #00d7ff; text-decoration-color: #00d7ff\">None</span>, <span style=\"color: #00af00; text-decoration-color: #00af00\">20</span>)             │             <span style=\"color: #00af00; text-decoration-color: #00af00\">0</span> │\n",
              "│ (<span style=\"color: #0087ff; text-decoration-color: #0087ff\">GlobalMaxPooling1D</span>)            │                        │               │\n",
              "├─────────────────────────────────┼────────────────────────┼───────────────┤\n",
              "│ dense (<span style=\"color: #0087ff; text-decoration-color: #0087ff\">Dense</span>)                   │ (<span style=\"color: #00d7ff; text-decoration-color: #00d7ff\">None</span>, <span style=\"color: #00af00; text-decoration-color: #00af00\">256</span>)            │         <span style=\"color: #00af00; text-decoration-color: #00af00\">5,376</span> │\n",
              "├─────────────────────────────────┼────────────────────────┼───────────────┤\n",
              "│ dense_1 (<span style=\"color: #0087ff; text-decoration-color: #0087ff\">Dense</span>)                 │ (<span style=\"color: #00d7ff; text-decoration-color: #00d7ff\">None</span>, <span style=\"color: #00af00; text-decoration-color: #00af00\">1</span>)              │           <span style=\"color: #00af00; text-decoration-color: #00af00\">257</span> │\n",
              "└─────────────────────────────────┴────────────────────────┴───────────────┘\n",
              "</pre>\n"
            ],
            "text/plain": [
              "┏━━━━━━━━━━━━━━━━━━━━━━━━━━━━━━━━━┳━━━━━━━━━━━━━━━━━━━━━━━━┳━━━━━━━━━━━━━━━┓\n",
              "┃\u001b[1m \u001b[0m\u001b[1mLayer (type)                   \u001b[0m\u001b[1m \u001b[0m┃\u001b[1m \u001b[0m\u001b[1mOutput Shape          \u001b[0m\u001b[1m \u001b[0m┃\u001b[1m \u001b[0m\u001b[1m      Param #\u001b[0m\u001b[1m \u001b[0m┃\n",
              "┡━━━━━━━━━━━━━━━━━━━━━━━━━━━━━━━━━╇━━━━━━━━━━━━━━━━━━━━━━━━╇━━━━━━━━━━━━━━━┩\n",
              "│ embedding (\u001b[38;5;33mEmbedding\u001b[0m)           │ (\u001b[38;5;45mNone\u001b[0m, \u001b[38;5;34m40\u001b[0m, \u001b[38;5;34m300\u001b[0m)        │    \u001b[38;5;34m81,560,700\u001b[0m │\n",
              "├─────────────────────────────────┼────────────────────────┼───────────────┤\n",
              "│ lstm (\u001b[38;5;33mLSTM\u001b[0m)                     │ (\u001b[38;5;45mNone\u001b[0m, \u001b[38;5;34m40\u001b[0m, \u001b[38;5;34m20\u001b[0m)         │        \u001b[38;5;34m25,680\u001b[0m │\n",
              "├─────────────────────────────────┼────────────────────────┼───────────────┤\n",
              "│ global_max_pooling1d            │ (\u001b[38;5;45mNone\u001b[0m, \u001b[38;5;34m20\u001b[0m)             │             \u001b[38;5;34m0\u001b[0m │\n",
              "│ (\u001b[38;5;33mGlobalMaxPooling1D\u001b[0m)            │                        │               │\n",
              "├─────────────────────────────────┼────────────────────────┼───────────────┤\n",
              "│ dense (\u001b[38;5;33mDense\u001b[0m)                   │ (\u001b[38;5;45mNone\u001b[0m, \u001b[38;5;34m256\u001b[0m)            │         \u001b[38;5;34m5,376\u001b[0m │\n",
              "├─────────────────────────────────┼────────────────────────┼───────────────┤\n",
              "│ dense_1 (\u001b[38;5;33mDense\u001b[0m)                 │ (\u001b[38;5;45mNone\u001b[0m, \u001b[38;5;34m1\u001b[0m)              │           \u001b[38;5;34m257\u001b[0m │\n",
              "└─────────────────────────────────┴────────────────────────┴───────────────┘\n"
            ]
          },
          "metadata": {},
          "output_type": "display_data"
        },
        {
          "data": {
            "text/html": [
              "<pre style=\"white-space:pre;overflow-x:auto;line-height:normal;font-family:Menlo,'DejaVu Sans Mono',consolas,'Courier New',monospace\"><span style=\"font-weight: bold\"> Total params: </span><span style=\"color: #00af00; text-decoration-color: #00af00\">81,592,015</span> (311.25 MB)\n",
              "</pre>\n"
            ],
            "text/plain": [
              "\u001b[1m Total params: \u001b[0m\u001b[38;5;34m81,592,015\u001b[0m (311.25 MB)\n"
            ]
          },
          "metadata": {},
          "output_type": "display_data"
        },
        {
          "data": {
            "text/html": [
              "<pre style=\"white-space:pre;overflow-x:auto;line-height:normal;font-family:Menlo,'DejaVu Sans Mono',consolas,'Courier New',monospace\"><span style=\"font-weight: bold\"> Trainable params: </span><span style=\"color: #00af00; text-decoration-color: #00af00\">31,313</span> (122.32 KB)\n",
              "</pre>\n"
            ],
            "text/plain": [
              "\u001b[1m Trainable params: \u001b[0m\u001b[38;5;34m31,313\u001b[0m (122.32 KB)\n"
            ]
          },
          "metadata": {},
          "output_type": "display_data"
        },
        {
          "data": {
            "text/html": [
              "<pre style=\"white-space:pre;overflow-x:auto;line-height:normal;font-family:Menlo,'DejaVu Sans Mono',consolas,'Courier New',monospace\"><span style=\"font-weight: bold\"> Non-trainable params: </span><span style=\"color: #00af00; text-decoration-color: #00af00\">81,560,700</span> (311.13 MB)\n",
              "</pre>\n"
            ],
            "text/plain": [
              "\u001b[1m Non-trainable params: \u001b[0m\u001b[38;5;34m81,560,700\u001b[0m (311.13 MB)\n"
            ]
          },
          "metadata": {},
          "output_type": "display_data"
        },
        {
          "data": {
            "text/html": [
              "<pre style=\"white-space:pre;overflow-x:auto;line-height:normal;font-family:Menlo,'DejaVu Sans Mono',consolas,'Courier New',monospace\"><span style=\"font-weight: bold\"> Optimizer params: </span><span style=\"color: #00af00; text-decoration-color: #00af00\">2</span> (12.00 B)\n",
              "</pre>\n"
            ],
            "text/plain": [
              "\u001b[1m Optimizer params: \u001b[0m\u001b[38;5;34m2\u001b[0m (12.00 B)\n"
            ]
          },
          "metadata": {},
          "output_type": "display_data"
        }
      ],
      "source": [
        "model.summary()"
      ]
    },
    {
      "cell_type": "code",
      "execution_count": 53,
      "id": "G7_VZ811s2DZ",
      "metadata": {
        "colab": {
          "base_uri": "https://localhost:8080/",
          "height": 211
        },
        "id": "G7_VZ811s2DZ",
        "outputId": "52a47a97-5e16-4752-b151-1a5f1e2ba9b3"
      },
      "outputs": [
        {
          "name": "stdout",
          "output_type": "stream",
          "text": [
            "\u001b[1m1/1\u001b[0m \u001b[32m━━━━━━━━━━━━━━━━━━━━\u001b[0m\u001b[37m\u001b[0m \u001b[1m0s\u001b[0m 121ms/step\n",
            "0.82682747\n",
            "Potential Suicide Post\n"
          ]
        }
      ],
      "source": [
        "twt = ['Through these past years thoughts of suicide, fear, anxiety I’m so close to my limit']\n",
        "twt = token_form.texts_to_sequences(twt)\n",
        "twt = pad_sequences(twt, maxlen=40)\n",
        "\n",
        "prediction = model_form.predict(twt)[0][0]\n",
        "print(prediction)\n",
        "\n",
        "if(prediction > 0.5):\n",
        "    print(\"Potential Suicide Post\")\n",
        "elif (prediction == 1):\n",
        "    print(\"Non Suicide Post\")"
      ]
    },
    {
      "cell_type": "code",
      "execution_count": 54,
      "id": "W3XGtXOdzH5X",
      "metadata": {
        "colab": {
          "base_uri": "https://localhost:8080/"
        },
        "id": "W3XGtXOdzH5X",
        "outputId": "f87cf66e-82a8-4061-f6d4-441c80f6e605"
      },
      "outputs": [
        {
          "name": "stdout",
          "output_type": "stream",
          "text": [
            "Requirement already satisfied: transformers in c:\\python312\\lib\\site-packages (4.51.3)\n",
            "Requirement already satisfied: filelock in c:\\python312\\lib\\site-packages (from transformers) (3.18.0)\n",
            "Requirement already satisfied: huggingface-hub<1.0,>=0.30.0 in c:\\python312\\lib\\site-packages (from transformers) (0.31.2)\n",
            "Requirement already satisfied: numpy>=1.17 in c:\\python312\\lib\\site-packages (from transformers) (2.1.3)\n",
            "Requirement already satisfied: packaging>=20.0 in c:\\users\\shash\\appdata\\roaming\\python\\python312\\site-packages (from transformers) (24.2)\n",
            "Requirement already satisfied: pyyaml>=5.1 in c:\\python312\\lib\\site-packages (from transformers) (6.0.2)\n",
            "Requirement already satisfied: regex!=2019.12.17 in c:\\python312\\lib\\site-packages (from transformers) (2024.11.6)\n",
            "Requirement already satisfied: requests in c:\\users\\shash\\appdata\\roaming\\python\\python312\\site-packages (from transformers) (2.32.3)\n",
            "Requirement already satisfied: tokenizers<0.22,>=0.21 in c:\\python312\\lib\\site-packages (from transformers) (0.21.1)\n",
            "Requirement already satisfied: safetensors>=0.4.3 in c:\\python312\\lib\\site-packages (from transformers) (0.5.3)\n",
            "Requirement already satisfied: tqdm>=4.27 in c:\\python312\\lib\\site-packages (from transformers) (4.67.1)\n",
            "Requirement already satisfied: fsspec>=2023.5.0 in c:\\python312\\lib\\site-packages (from huggingface-hub<1.0,>=0.30.0->transformers) (2025.3.2)\n",
            "Requirement already satisfied: typing-extensions>=3.7.4.3 in c:\\python312\\lib\\site-packages (from huggingface-hub<1.0,>=0.30.0->transformers) (4.13.1)\n",
            "Requirement already satisfied: colorama in c:\\python312\\lib\\site-packages (from tqdm>=4.27->transformers) (0.4.6)\n",
            "Requirement already satisfied: charset-normalizer<4,>=2 in c:\\users\\shash\\appdata\\roaming\\python\\python312\\site-packages (from requests->transformers) (3.4.1)\n",
            "Requirement already satisfied: idna<4,>=2.5 in c:\\users\\shash\\appdata\\roaming\\python\\python312\\site-packages (from requests->transformers) (3.10)\n",
            "Requirement already satisfied: urllib3<3,>=1.21.1 in c:\\python312\\lib\\site-packages (from requests->transformers) (2.3.0)\n",
            "Requirement already satisfied: certifi>=2017.4.17 in c:\\users\\shash\\appdata\\roaming\\python\\python312\\site-packages (from requests->transformers) (2025.1.31)\n"
          ]
        },
        {
          "name": "stderr",
          "output_type": "stream",
          "text": [
            "\n",
            "[notice] A new release of pip is available: 23.2.1 -> 25.1.1\n",
            "[notice] To update, run: python.exe -m pip install --upgrade pip\n"
          ]
        },
        {
          "name": "stdout",
          "output_type": "stream",
          "text": [
            "Requirement already satisfied: tf-keras in c:\\python312\\lib\\site-packages (2.19.0)\n",
            "Requirement already satisfied: tensorflow<2.20,>=2.19 in c:\\users\\shash\\appdata\\roaming\\python\\python312\\site-packages (from tf-keras) (2.19.0)\n",
            "Requirement already satisfied: absl-py>=1.0.0 in c:\\users\\shash\\appdata\\roaming\\python\\python312\\site-packages (from tensorflow<2.20,>=2.19->tf-keras) (2.2.2)\n",
            "Requirement already satisfied: astunparse>=1.6.0 in c:\\users\\shash\\appdata\\roaming\\python\\python312\\site-packages (from tensorflow<2.20,>=2.19->tf-keras) (1.6.3)\n",
            "Requirement already satisfied: flatbuffers>=24.3.25 in c:\\python312\\lib\\site-packages (from tensorflow<2.20,>=2.19->tf-keras) (25.2.10)\n",
            "Requirement already satisfied: gast!=0.5.0,!=0.5.1,!=0.5.2,>=0.2.1 in c:\\users\\shash\\appdata\\roaming\\python\\python312\\site-packages (from tensorflow<2.20,>=2.19->tf-keras) (0.6.0)\n",
            "Requirement already satisfied: google-pasta>=0.1.1 in c:\\users\\shash\\appdata\\roaming\\python\\python312\\site-packages (from tensorflow<2.20,>=2.19->tf-keras) (0.2.0)\n",
            "Requirement already satisfied: libclang>=13.0.0 in c:\\python312\\lib\\site-packages (from tensorflow<2.20,>=2.19->tf-keras) (18.1.1)\n",
            "Requirement already satisfied: opt-einsum>=2.3.2 in c:\\python312\\lib\\site-packages (from tensorflow<2.20,>=2.19->tf-keras) (3.4.0)\n",
            "Requirement already satisfied: packaging in c:\\users\\shash\\appdata\\roaming\\python\\python312\\site-packages (from tensorflow<2.20,>=2.19->tf-keras) (24.2)\n",
            "Requirement already satisfied: protobuf!=4.21.0,!=4.21.1,!=4.21.2,!=4.21.3,!=4.21.4,!=4.21.5,<6.0.0dev,>=3.20.3 in c:\\python312\\lib\\site-packages (from tensorflow<2.20,>=2.19->tf-keras) (5.29.4)\n",
            "Requirement already satisfied: requests<3,>=2.21.0 in c:\\users\\shash\\appdata\\roaming\\python\\python312\\site-packages (from tensorflow<2.20,>=2.19->tf-keras) (2.32.3)\n",
            "Requirement already satisfied: setuptools in c:\\python312\\lib\\site-packages (from tensorflow<2.20,>=2.19->tf-keras) (78.1.0)\n",
            "Requirement already satisfied: six>=1.12.0 in c:\\users\\shash\\appdata\\roaming\\python\\python312\\site-packages (from tensorflow<2.20,>=2.19->tf-keras) (1.17.0)\n",
            "Requirement already satisfied: termcolor>=1.1.0 in c:\\python312\\lib\\site-packages (from tensorflow<2.20,>=2.19->tf-keras) (3.0.1)\n",
            "Requirement already satisfied: typing-extensions>=3.6.6 in c:\\python312\\lib\\site-packages (from tensorflow<2.20,>=2.19->tf-keras) (4.13.1)\n",
            "Requirement already satisfied: wrapt>=1.11.0 in c:\\python312\\lib\\site-packages (from tensorflow<2.20,>=2.19->tf-keras) (1.17.2)\n",
            "Requirement already satisfied: grpcio<2.0,>=1.24.3 in c:\\users\\shash\\appdata\\roaming\\python\\python312\\site-packages (from tensorflow<2.20,>=2.19->tf-keras) (1.71.0)\n",
            "Requirement already satisfied: tensorboard~=2.19.0 in c:\\users\\shash\\appdata\\roaming\\python\\python312\\site-packages (from tensorflow<2.20,>=2.19->tf-keras) (2.19.0)\n",
            "Requirement already satisfied: keras>=3.5.0 in c:\\users\\shash\\appdata\\roaming\\python\\python312\\site-packages (from tensorflow<2.20,>=2.19->tf-keras) (3.9.2)\n",
            "Requirement already satisfied: numpy<2.2.0,>=1.26.0 in c:\\python312\\lib\\site-packages (from tensorflow<2.20,>=2.19->tf-keras) (2.1.3)\n",
            "Requirement already satisfied: h5py>=3.11.0 in c:\\users\\shash\\appdata\\roaming\\python\\python312\\site-packages (from tensorflow<2.20,>=2.19->tf-keras) (3.13.0)\n",
            "Requirement already satisfied: ml-dtypes<1.0.0,>=0.5.1 in c:\\python312\\lib\\site-packages (from tensorflow<2.20,>=2.19->tf-keras) (0.5.1)\n",
            "Requirement already satisfied: wheel<1.0,>=0.23.0 in c:\\python312\\lib\\site-packages (from astunparse>=1.6.0->tensorflow<2.20,>=2.19->tf-keras) (0.45.1)\n",
            "Requirement already satisfied: rich in c:\\users\\shash\\appdata\\roaming\\python\\python312\\site-packages (from keras>=3.5.0->tensorflow<2.20,>=2.19->tf-keras) (14.0.0)\n",
            "Requirement already satisfied: namex in c:\\python312\\lib\\site-packages (from keras>=3.5.0->tensorflow<2.20,>=2.19->tf-keras) (0.0.8)\n",
            "Requirement already satisfied: optree in c:\\python312\\lib\\site-packages (from keras>=3.5.0->tensorflow<2.20,>=2.19->tf-keras) (0.15.0)\n",
            "Requirement already satisfied: charset-normalizer<4,>=2 in c:\\users\\shash\\appdata\\roaming\\python\\python312\\site-packages (from requests<3,>=2.21.0->tensorflow<2.20,>=2.19->tf-keras) (3.4.1)\n",
            "Requirement already satisfied: idna<4,>=2.5 in c:\\users\\shash\\appdata\\roaming\\python\\python312\\site-packages (from requests<3,>=2.21.0->tensorflow<2.20,>=2.19->tf-keras) (3.10)\n",
            "Requirement already satisfied: urllib3<3,>=1.21.1 in c:\\python312\\lib\\site-packages (from requests<3,>=2.21.0->tensorflow<2.20,>=2.19->tf-keras) (2.3.0)\n",
            "Requirement already satisfied: certifi>=2017.4.17 in c:\\users\\shash\\appdata\\roaming\\python\\python312\\site-packages (from requests<3,>=2.21.0->tensorflow<2.20,>=2.19->tf-keras) (2025.1.31)\n",
            "Requirement already satisfied: markdown>=2.6.8 in c:\\python312\\lib\\site-packages (from tensorboard~=2.19.0->tensorflow<2.20,>=2.19->tf-keras) (3.7)\n",
            "Requirement already satisfied: tensorboard-data-server<0.8.0,>=0.7.0 in c:\\python312\\lib\\site-packages (from tensorboard~=2.19.0->tensorflow<2.20,>=2.19->tf-keras) (0.7.2)\n",
            "Requirement already satisfied: werkzeug>=1.0.1 in c:\\python312\\lib\\site-packages (from tensorboard~=2.19.0->tensorflow<2.20,>=2.19->tf-keras) (3.1.3)\n",
            "Requirement already satisfied: MarkupSafe>=2.1.1 in c:\\python312\\lib\\site-packages (from werkzeug>=1.0.1->tensorboard~=2.19.0->tensorflow<2.20,>=2.19->tf-keras) (3.0.2)\n",
            "Requirement already satisfied: markdown-it-py>=2.2.0 in c:\\users\\shash\\appdata\\roaming\\python\\python312\\site-packages (from rich->keras>=3.5.0->tensorflow<2.20,>=2.19->tf-keras) (3.0.0)\n",
            "Requirement already satisfied: pygments<3.0.0,>=2.13.0 in c:\\users\\shash\\appdata\\roaming\\python\\python312\\site-packages (from rich->keras>=3.5.0->tensorflow<2.20,>=2.19->tf-keras) (2.19.1)\n",
            "Requirement already satisfied: mdurl~=0.1 in c:\\python312\\lib\\site-packages (from markdown-it-py>=2.2.0->rich->keras>=3.5.0->tensorflow<2.20,>=2.19->tf-keras) (0.1.2)\n"
          ]
        },
        {
          "name": "stderr",
          "output_type": "stream",
          "text": [
            "\n",
            "[notice] A new release of pip is available: 23.2.1 -> 25.1.1\n",
            "[notice] To update, run: python.exe -m pip install --upgrade pip\n"
          ]
        },
        {
          "name": "stdout",
          "output_type": "stream",
          "text": [
            "Requirement already satisfied: torch in c:\\python312\\lib\\site-packages (2.7.0)\n",
            "Requirement already satisfied: filelock in c:\\python312\\lib\\site-packages (from torch) (3.18.0)\n",
            "Requirement already satisfied: typing-extensions>=4.10.0 in c:\\python312\\lib\\site-packages (from torch) (4.13.1)\n",
            "Requirement already satisfied: sympy>=1.13.3 in c:\\python312\\lib\\site-packages (from torch) (1.14.0)\n",
            "Requirement already satisfied: networkx in c:\\python312\\lib\\site-packages (from torch) (3.4.2)\n",
            "Requirement already satisfied: jinja2 in c:\\python312\\lib\\site-packages (from torch) (3.1.6)\n",
            "Requirement already satisfied: fsspec in c:\\python312\\lib\\site-packages (from torch) (2025.3.2)\n",
            "Requirement already satisfied: setuptools in c:\\python312\\lib\\site-packages (from torch) (78.1.0)\n",
            "Requirement already satisfied: mpmath<1.4,>=1.1.0 in c:\\python312\\lib\\site-packages (from sympy>=1.13.3->torch) (1.3.0)\n",
            "Requirement already satisfied: MarkupSafe>=2.0 in c:\\python312\\lib\\site-packages (from jinja2->torch) (3.0.2)\n"
          ]
        },
        {
          "name": "stderr",
          "output_type": "stream",
          "text": [
            "\n",
            "[notice] A new release of pip is available: 23.2.1 -> 25.1.1\n",
            "[notice] To update, run: python.exe -m pip install --upgrade pip\n"
          ]
        }
      ],
      "source": [
        "!pip install transformers\n",
        "!pip install tf-keras\n",
        "!pip install torch"
      ]
    },
    {
      "cell_type": "code",
      "execution_count": 55,
      "id": "c3895706",
      "metadata": {},
      "outputs": [
        {
          "name": "stdout",
          "output_type": "stream",
          "text": [
            "WARNING:tensorflow:From c:\\Python312\\Lib\\site-packages\\tf_keras\\src\\losses.py:2976: The name tf.losses.sparse_softmax_cross_entropy is deprecated. Please use tf.compat.v1.losses.sparse_softmax_cross_entropy instead.\n",
            "\n"
          ]
        },
        {
          "name": "stderr",
          "output_type": "stream",
          "text": [
            "WARNING:tensorflow:From c:\\Python312\\Lib\\site-packages\\tf_keras\\src\\losses.py:2976: The name tf.losses.sparse_softmax_cross_entropy is deprecated. Please use tf.compat.v1.losses.sparse_softmax_cross_entropy instead.\n",
            "\n",
            "Device set to use cpu\n"
          ]
        },
        {
          "name": "stdout",
          "output_type": "stream",
          "text": [
            "[{'label': 'POSITIVE', 'score': 0.9907547831535339}]\n"
          ]
        }
      ],
      "source": [
        "import os\n",
        "os.environ[\"TRANSFORMERS_NO_TF\"] = \"1\"\n",
        "\n",
        "import torch\n",
        "\n",
        "from transformers import pipeline\n",
        "\n",
        "# Explicit model and revision for production use\n",
        "sentiment_pipeline = pipeline(\n",
        "    \"sentiment-analysis\",\n",
        "    model=\"distilbert/distilbert-base-uncased-finetuned-sst-2-english\",\n",
        "    revision=\"714eb0f\"\n",
        ")\n",
        "\n",
        "text = \"I dont want to suicide!\"\n",
        "result = sentiment_pipeline(text)\n",
        "\n",
        "print(result)\n"
      ]
    },
    {
      "cell_type": "code",
      "execution_count": 56,
      "id": "AbrTAuLYzOBh",
      "metadata": {
        "colab": {
          "base_uri": "https://localhost:8080/"
        },
        "id": "AbrTAuLYzOBh",
        "outputId": "6d8f2f53-978c-4e8d-94b1-91787a4c2cb1"
      },
      "outputs": [
        {
          "name": "stderr",
          "output_type": "stream",
          "text": [
            "No model was supplied, defaulted to distilbert/distilbert-base-uncased-finetuned-sst-2-english and revision 714eb0f (https://huggingface.co/distilbert/distilbert-base-uncased-finetuned-sst-2-english).\n",
            "Using a pipeline without specifying a model name and revision in production is not recommended.\n",
            "Device set to use cpu\n"
          ]
        }
      ],
      "source": [
        "from transformers import pipeline\n",
        "\n",
        "# Load sentiment analysis pipeline\n",
        "sentiment_pipeline = pipeline(\"sentiment-analysis\")\n",
        "\n",
        "def get_sentiment(text):\n",
        "    result = sentiment_pipeline(text)[0]\n",
        "    label = result['label']  # 'POSITIVE' or 'NEGATIVE'\n",
        "    score = result['score']\n",
        "    return label, score\n"
      ]
    },
    {
      "cell_type": "code",
      "execution_count": 57,
      "id": "llj-U5EK06FO",
      "metadata": {
        "id": "llj-U5EK06FO"
      },
      "outputs": [],
      "source": [
        "def final_prediction(text, model):\n",
        "    # Step 1: Get model prediction\n",
        "    model_score = model.predict(text)  # Assuming this gives you a float or a label\n",
        "\n",
        "    # Step 2: Get sentiment\n",
        "    sentiment_label, sentiment_score = get_sentiment(text)\n",
        "\n",
        "    # Step 3: Combine logic (customize as needed)\n",
        "    if sentiment_label == \"POSITIVE\":\n",
        "        final_result = \"Not suicidal\"\n",
        "    elif sentiment_label == \"NEGATIVE\":\n",
        "        if model_score > 0.7:\n",
        "            final_result = \"Potential suicide\"\n",
        "        else:\n",
        "            final_result = \"Low risk\"\n",
        "    else:\n",
        "        final_result = \"Neutral\"\n",
        "\n",
        "    return final_result\n"
      ]
    },
    {
      "cell_type": "code",
      "execution_count": 58,
      "id": "7mtYm5dq1N1m",
      "metadata": {
        "colab": {
          "base_uri": "https://localhost:8080/"
        },
        "id": "7mtYm5dq1N1m",
        "outputId": "aa0b158f-0474-4c49-e12c-048df88fc951"
      },
      "outputs": [
        {
          "name": "stderr",
          "output_type": "stream",
          "text": [
            "WARNING:absl:Compiled the loaded model, but the compiled metrics have yet to be built. `model.compile_metrics` will be empty until you train or evaluate the model.\n",
            "No model was supplied, defaulted to distilbert/distilbert-base-uncased-finetuned-sst-2-english and revision 714eb0f (https://huggingface.co/distilbert/distilbert-base-uncased-finetuned-sst-2-english).\n",
            "Using a pipeline without specifying a model name and revision in production is not recommended.\n",
            "Device set to use cpu\n"
          ]
        }
      ],
      "source": [
        "import numpy as np\n",
        "import tensorflow as tf\n",
        "from tensorflow.keras.models import load_model\n",
        "import pickle\n",
        "from transformers import pipeline\n",
        "\n",
        "# Load your Keras model\n",
        "model = load_model('my_model.h5')\n",
        "\n",
        "# Load your tokenizer (adjust path as needed)\n",
        "with open('tokenizer.pkl', 'rb') as f:\n",
        "    tokenizer = pickle.load(f)\n",
        "\n",
        "# Load sentiment analysis pipeline\n",
        "sentiment_pipeline = pipeline(\"sentiment-analysis\")\n",
        "\n",
        "# Preprocessing: convert text to padded sequence\n",
        "def preprocess(text, tokenizer, max_len=100):\n",
        "    seq = tokenizer.texts_to_sequences([text])\n",
        "    padded = tf.keras.preprocessing.sequence.pad_sequences(seq, maxlen=max_len)\n",
        "    return padded\n",
        "\n",
        "# Sentiment analyzer\n",
        "def get_sentiment(text):\n",
        "    result = sentiment_pipeline(text)[0]\n",
        "    label = result['label']  # 'POSITIVE' or 'NEGATIVE'\n",
        "    score = result['score']\n",
        "    return label, score\n",
        "\n",
        "# Final combined prediction logic\n",
        "def final_prediction(text, model, tokenizer):\n",
        "    # Get sentiment\n",
        "    sentiment_label, sentiment_score = get_sentiment(text)\n",
        "\n",
        "    # Get model prediction\n",
        "    processed = preprocess(text, tokenizer)\n",
        "    model_score = model.predict(processed)[0][0]\n",
        "\n",
        "    # Combine logic\n",
        "    if sentiment_label == \"POSITIVE\":\n",
        "        return \"Not suicidal\"\n",
        "    elif sentiment_label == \"NEGATIVE\":\n",
        "        if model_score > 0.7:\n",
        "            return \"Potential suicide\"\n",
        "        elif model_score > 0.4:\n",
        "            return \"Low risk\"\n",
        "        else:\n",
        "            return \"Not suicidal\"\n",
        "    else:\n",
        "        return \"Neutral/Unknown\"\n",
        "\n",
        "\n"
      ]
    },
    {
      "cell_type": "code",
      "execution_count": null,
      "id": "cau7OqHQ3tf0",
      "metadata": {
        "colab": {
          "base_uri": "https://localhost:8080/"
        },
        "id": "cau7OqHQ3tf0",
        "outputId": "bd243210-6abc-47b5-bb79-fa5548e6562c"
      },
      "outputs": [
        {
          "ename": "NameError",
          "evalue": "name 'model' is not defined",
          "output_type": "error",
          "traceback": [
            "\u001b[31m---------------------------------------------------------------------------\u001b[39m",
            "\u001b[31mNameError\u001b[39m                                 Traceback (most recent call last)",
            "\u001b[36mCell\u001b[39m\u001b[36m \u001b[39m\u001b[32mIn[1]\u001b[39m\u001b[32m, line 1\u001b[39m\n\u001b[32m----> \u001b[39m\u001b[32m1\u001b[39m \u001b[43mmodel\u001b[49m.save(\u001b[33m\"\u001b[39m\u001b[33mmy_model.h5\u001b[39m\u001b[33m\"\u001b[39m)\n",
            "\u001b[31mNameError\u001b[39m: name 'model' is not defined"
          ]
        }
      ],
      "source": [
        "model.save(\"new.h5\")"
      ]
    }
  ],
  "metadata": {
    "colab": {
      "provenance": []
    },
    "kernelspec": {
      "display_name": "Python 3",
      "language": "python",
      "name": "python3"
    },
    "language_info": {
      "codemirror_mode": {
        "name": "ipython",
        "version": 3
      },
      "file_extension": ".py",
      "mimetype": "text/x-python",
      "name": "python",
      "nbconvert_exporter": "python",
      "pygments_lexer": "ipython3",
      "version": "3.12.0"
    }
  },
  "nbformat": 4,
  "nbformat_minor": 5
}
